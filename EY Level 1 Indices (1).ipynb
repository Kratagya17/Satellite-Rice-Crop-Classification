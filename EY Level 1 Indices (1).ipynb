{
 "cells": [
  {
   "cell_type": "code",
   "execution_count": 1,
   "id": "8aa2ce5b",
   "metadata": {
    "tags": []
   },
   "outputs": [],
   "source": [
    "# Supress Warnings\n",
    "import warnings\n",
    "warnings.filterwarnings('ignore')\n",
    "\n",
    "# Visualization\n",
    "import ipyleaflet\n",
    "import matplotlib.pyplot as plt\n",
    "from IPython.display import Image\n",
    "import seaborn as sns\n",
    "\n",
    "# Data Science\n",
    "import numpy as np\n",
    "import pandas as pd\n",
    "import dask\n",
    "from dask.distributed import Client as daskClient\n",
    "\n",
    "# Feature Engineering\n",
    "from sklearn.preprocessing import StandardScaler\n",
    "from sklearn.preprocessing import RobustScaler\n",
    "from sklearn.preprocessing import QuantileTransformer\n",
    "from sklearn.model_selection import train_test_split\n",
    "from sklearn.model_selection import KFold\n",
    "from sklearn.impute import KNNImputer\n",
    "import xgboost as xgb\n",
    "\n",
    "# Machine Learning\n",
    "import xgboost as xgb\n",
    "from sklearn.linear_model import LogisticRegression\n",
    "from sklearn.neighbors import KNeighborsClassifier\n",
    "from sklearn.naive_bayes import CategoricalNB\n",
    "from sklearn.naive_bayes import MultinomialNB\n",
    "from sklearn.ensemble import RandomForestClassifier\n",
    "from sklearn.metrics import f1_score, accuracy_score,classification_report,confusion_matrix\n",
    "from sklearn.model_selection import RandomizedSearchCV, GridSearchCV\n",
    "\n",
    "# Planetary Computer Tools\n",
    "import pystac\n",
    "import pystac_client\n",
    "import odc\n",
    "from pystac_client import Client\n",
    "from pystac.extensions.eo import EOExtension as eo\n",
    "from odc.stac import stac_load\n",
    "import planetary_computer as pc\n",
    "pc.settings.set_subscription_key('df2f4d7a411942f8a5b81d60cb9b95ca')\n",
    "\n",
    "# Others\n",
    "import requests\n",
    "import rich.table\n",
    "import math\n",
    "import random\n",
    "from itertools import cycle\n",
    "from tqdm import tqdm\n",
    "from time import sleep\n",
    "tqdm.pandas()"
   ]
  },
  {
   "cell_type": "code",
   "execution_count": 2,
   "id": "462c294c",
   "metadata": {
    "tags": []
   },
   "outputs": [
    {
     "data": {
      "text/html": [
       "<div>\n",
       "<style scoped>\n",
       "    .dataframe tbody tr th:only-of-type {\n",
       "        vertical-align: middle;\n",
       "    }\n",
       "\n",
       "    .dataframe tbody tr th {\n",
       "        vertical-align: top;\n",
       "    }\n",
       "\n",
       "    .dataframe thead th {\n",
       "        text-align: right;\n",
       "    }\n",
       "</style>\n",
       "<table border=\"1\" class=\"dataframe\">\n",
       "  <thead>\n",
       "    <tr style=\"text-align: right;\">\n",
       "      <th></th>\n",
       "      <th>Latitude and Longitude</th>\n",
       "      <th>Class of Land</th>\n",
       "    </tr>\n",
       "  </thead>\n",
       "  <tbody>\n",
       "    <tr>\n",
       "      <th>0</th>\n",
       "      <td>(10.323727047081501, 105.2516346045924)</td>\n",
       "      <td>Rice</td>\n",
       "    </tr>\n",
       "    <tr>\n",
       "      <th>1</th>\n",
       "      <td>(10.322364360592521, 105.27843410554115)</td>\n",
       "      <td>Rice</td>\n",
       "    </tr>\n",
       "    <tr>\n",
       "      <th>2</th>\n",
       "      <td>(10.321455902933202, 105.25254306225168)</td>\n",
       "      <td>Rice</td>\n",
       "    </tr>\n",
       "    <tr>\n",
       "      <th>3</th>\n",
       "      <td>(10.324181275911162, 105.25118037576274)</td>\n",
       "      <td>Rice</td>\n",
       "    </tr>\n",
       "    <tr>\n",
       "      <th>4</th>\n",
       "      <td>(10.324635504740822, 105.27389181724476)</td>\n",
       "      <td>Rice</td>\n",
       "    </tr>\n",
       "  </tbody>\n",
       "</table>\n",
       "</div>"
      ],
      "text/plain": [
       "                     Latitude and Longitude Class of Land\n",
       "0   (10.323727047081501, 105.2516346045924)          Rice\n",
       "1  (10.322364360592521, 105.27843410554115)          Rice\n",
       "2  (10.321455902933202, 105.25254306225168)          Rice\n",
       "3  (10.324181275911162, 105.25118037576274)          Rice\n",
       "4  (10.324635504740822, 105.27389181724476)          Rice"
      ]
     },
     "execution_count": 2,
     "metadata": {},
     "output_type": "execute_result"
    }
   ],
   "source": [
    "# Getting data from CSV file\n",
    "crop_presence_data = pd.read_csv(\"crop.csv\")\n",
    "crop_presence_data.head()"
   ]
  },
  {
   "cell_type": "markdown",
   "id": "34715906",
   "metadata": {},
   "source": [
    "# Data collection"
   ]
  },
  {
   "cell_type": "code",
   "execution_count": 3,
   "id": "0997bb45-842b-4b05-a2fe-d29137ede932",
   "metadata": {
    "tags": []
   },
   "outputs": [],
   "source": [
    "#vegetative\n",
    "indices_vegetative=pd.read_csv(\"vegetative.csv\")\n",
    "ndvi_vegetative=indices_vegetative[['NDVI']]\n",
    "ndvi_vegetative.columns =['NDVI_veg']\n",
    "\n",
    "evi_vegetative=indices_vegetative[['EVI']]\n",
    "evi_vegetative.columns =['EVI_veg']\n",
    "\n",
    "rgvi_vegetative=indices_vegetative[['RGVI']]\n",
    "rgvi_vegetative.columns =['RGVI_veg']\n",
    "\n",
    "ndbi_vegetative = indices_vegetative[['NDBI']]\n",
    "ndbi_vegetative.columns = ['NDBI_veg']\n",
    "\n",
    "dvi_vegetative = indices_vegetative[['DVI']]\n",
    "dvi_vegetative.columns = ['DVI_veg']\n",
    "\n",
    "ipvi_vegetative = indices_vegetative[['IPVI']]\n",
    "ipvi_vegetative.columns = ['IPVI_veg']\n",
    "\n",
    "msavi_vegetative = indices_vegetative[['MSAVI']]\n",
    "msavi_vegetative.columns = ['MSAVI_veg']\n",
    "\n",
    "ndwi_vegetative = indices_vegetative[['NDWI']]\n",
    "ndwi_vegetative.columns = ['NDWI_veg']\n",
    "\n",
    "\n",
    "#vegetative_2\n",
    "indices_vegetative_2=pd.read_csv(\"vegetative_2.csv\")\n",
    "ndvi_vegetative_2=indices_vegetative_2[['NDVI']]\n",
    "ndvi_vegetative_2.columns =['NDVI_veg2']\n",
    "\n",
    "evi_vegetative_2=indices_vegetative_2[['EVI']]\n",
    "evi_vegetative_2.columns =['EVI_veg2']\n",
    "\n",
    "rgvi_vegetative_2=indices_vegetative_2[['RGVI']]\n",
    "rgvi_vegetative_2.columns =['RGVI_veg2']\n",
    "\n",
    "ndbi_vegetative_2 = indices_vegetative_2[['NDBI']]\n",
    "ndbi_vegetative_2.columns = ['NDBI_veg2']\n",
    "\n",
    "dvi_vegetative_2 = indices_vegetative_2[['DVI']]\n",
    "dvi_vegetative_2.columns = ['DVI_veg2']\n",
    "\n",
    "ipvi_vegetative_2 = indices_vegetative_2[['IPVI']]\n",
    "ipvi_vegetative_2.columns = ['IPVI_veg2']\n",
    "\n",
    "msavi_vegetative_2 = indices_vegetative_2[['MSAVI']]\n",
    "msavi_vegetative_2.columns = ['MSAVI_veg2']\n",
    "\n",
    "ndwi_vegetative_2 = indices_vegetative_2[['NDWI']]\n",
    "ndwi_vegetative_2.columns = ['NDWI_veg2']\n"
   ]
  },
  {
   "cell_type": "code",
   "execution_count": 4,
   "id": "27d83dd4-330d-4954-83d8-195fed0ec25d",
   "metadata": {
    "tags": []
   },
   "outputs": [],
   "source": [
    "#reproductive\n",
    "indices_reproductive=pd.read_csv(\"reproductive.csv\")\n",
    "ndvi_reproductive=indices_reproductive[['NDVI']]\n",
    "ndvi_reproductive.columns =['NDVI_rep']\n",
    "\n",
    "evi_reproductive=indices_reproductive[['EVI']]\n",
    "evi_reproductive.columns =['EVI_rep']\n",
    "\n",
    "rgvi_reproductive=indices_reproductive[['RGVI']]\n",
    "rgvi_reproductive.columns =['RGVI_rep']\n",
    "\n",
    "ndbi_reproductive = indices_vegetative[['NDBI']]\n",
    "ndbi_reproductive.columns = ['NDBI_rep']\n",
    "\n",
    "dvi_reproductive = indices_vegetative[['DVI']]\n",
    "dvi_reproductive.columns = ['DVI_rep']\n",
    "\n",
    "ipvi_reproductive = indices_vegetative[['IPVI']]\n",
    "ipvi_reproductive.columns = ['IPVI_rep']\n",
    "\n",
    "msavi_reproductive = indices_vegetative[['MSAVI']]\n",
    "msavi_reproductive.columns = ['MSAVI_rep']\n",
    "\n",
    "ndwi_reproductive = indices_vegetative[['NDWI']]\n",
    "ndwi_reproductive.columns = ['NDWI_rep']\n",
    "\n",
    "# reproductive_2\n",
    "indices_reproductive_2=pd.read_csv(\"reproductive_2.csv\")\n",
    "ndvi_reproductive_2=indices_reproductive_2[['NDVI']]\n",
    "ndvi_reproductive_2.columns =['NDVI_rep2']\n",
    "\n",
    "evi_reproductive_2=indices_reproductive_2[['EVI']]\n",
    "evi_reproductive_2.columns =['EVI_rep2']\n",
    "\n",
    "rgvi_reproductive_2=indices_reproductive_2[['RGVI']]\n",
    "rgvi_reproductive_2.columns =['RGVI_rep2']\n",
    "\n",
    "ndbi_reproductive_2 = indices_vegetative[['NDBI']]\n",
    "ndbi_reproductive_2.columns = ['NDBI_rep2']\n",
    "\n",
    "dvi_reproductive_2 = indices_vegetative[['DVI']]\n",
    "dvi_reproductive_2.columns = ['DVI_rep2']\n",
    "\n",
    "ipvi_reproductive_2 = indices_vegetative[['IPVI']]\n",
    "ipvi_reproductive_2.columns = ['IPVI_rep2']\n",
    "\n",
    "msavi_reproductive_2 = indices_vegetative[['MSAVI']]\n",
    "msavi_reproductive_2.columns = ['MSAVI_rep2']\n",
    "\n",
    "ndwi_reproductive_2 = indices_vegetative[['NDWI']]\n",
    "ndwi_reproductive_2.columns = ['NDWI_rep2']\n",
    "\n"
   ]
  },
  {
   "cell_type": "code",
   "execution_count": 5,
   "id": "7b34f1b4-5d1f-48d4-8929-8a8e4f5cc7ce",
   "metadata": {
    "tags": []
   },
   "outputs": [],
   "source": [
    "# ripening\n",
    "indices_ripening = pd.read_csv(\"ripening.csv\")\n",
    "ndvi_ripening = indices_ripening[['NDVI']]\n",
    "ndvi_ripening.columns = ['NDVI_rip']\n",
    "\n",
    "evi_ripening = indices_ripening[['EVI']]\n",
    "evi_ripening.columns = ['EVI_rip']\n",
    "\n",
    "rgvi_ripening = indices_ripening[['RGVI']]\n",
    "rgvi_ripening.columns = ['RGVI_rip']\n",
    "\n",
    "ndbi_ripening = indices_vegetative[['NDBI']]\n",
    "ndbi_ripening.columns = ['NDBI_rip']\n",
    "\n",
    "dvi_ripening = indices_vegetative[['DVI']]\n",
    "dvi_ripening.columns = ['DVI_rip']\n",
    "\n",
    "ipvi_ripening = indices_vegetative[['IPVI']]\n",
    "ipvi_ripening.columns = ['IPVI_rip']\n",
    "\n",
    "msavi_ripening = indices_vegetative[['MSAVI']]\n",
    "msavi_ripening.columns = ['MSAVI_rip']\n",
    "\n",
    "ndwi_ripening = indices_vegetative[['NDWI']]\n",
    "ndwi_ripening.columns = ['NDWI_rip']\n",
    "\n",
    "# ripening_2\n",
    "indices_ripening_2 = pd.read_csv(\"ripening_2.csv\")\n",
    "ndvi_ripening_2 = indices_ripening_2[['NDVI']]\n",
    "ndvi_ripening_2.columns = ['NDVI_rip2']\n",
    "\n",
    "evi_ripening_2 = indices_ripening_2[['EVI']]\n",
    "evi_ripening_2.columns = ['EVI_rip2']\n",
    "\n",
    "rgvi_ripening_2 = indices_ripening_2[['RGVI']]\n",
    "rgvi_ripening_2.columns = ['RGVI_rip2']\n",
    "\n",
    "ndbi_ripening_2 = indices_vegetative_2[['NDBI']]\n",
    "ndbi_ripening_2.columns = ['NDBI_rip2']\n",
    "\n",
    "dvi_ripening_2 = indices_vegetative_2[['DVI']]\n",
    "dvi_ripening_2.columns = ['DVI_rip2']\n",
    "\n",
    "ipvi_ripening_2 = indices_vegetative_2[['IPVI']]\n",
    "ipvi_ripening_2.columns = ['IPVI_rip2']\n",
    "\n",
    "msavi_ripening_2 = indices_vegetative_2[['MSAVI']]\n",
    "msavi_ripening_2.columns = ['MSAVI_rip2']\n",
    "\n",
    "ndwi_ripening_2 = indices_ripening_2[['NDWI']]\n",
    "ndwi_ripening_2.columns = ['NDWI_rip2']\n"
   ]
  },
  {
   "cell_type": "code",
   "execution_count": 6,
   "id": "675f8666-51f8-42b2-9d86-90a14533567a",
   "metadata": {
    "tags": []
   },
   "outputs": [],
   "source": [
    "#concating all the indices into a single DataFrame\n",
    "crop_data=pd.concat([ndvi_vegetative,evi_vegetative,rgvi_vegetative,ndbi_vegetative, dvi_vegetative, ipvi_vegetative, msavi_vegetative, ndwi_vegetative, ndvi_vegetative_2,evi_vegetative_2,rgvi_vegetative_2,ndbi_vegetative_2, dvi_vegetative_2, ipvi_vegetative_2, msavi_vegetative_2, ndwi_vegetative_2,ndvi_reproductive,evi_reproductive,rgvi_reproductive,ndbi_reproductive, dvi_reproductive, ipvi_reproductive, msavi_reproductive, ndwi_reproductive,ndvi_reproductive_2,evi_reproductive_2,rgvi_reproductive_2,ndbi_reproductive_2, dvi_reproductive_2, ipvi_reproductive_2, msavi_reproductive_2, ndwi_reproductive_2,ndvi_ripening,evi_ripening,rgvi_ripening,ndbi_ripening, dvi_ripening, ipvi_ripening, msavi_ripening, ndwi_ripening,ndvi_ripening_2,evi_ripening_2,rgvi_ripening_2,ndbi_ripening_2, dvi_ripening_2, ipvi_ripening_2, msavi_ripening_2, ndwi_ripening_2],axis=1) "
   ]
  },
  {
   "cell_type": "code",
   "execution_count": 7,
   "id": "fc8aafad-d4d2-4706-82dd-448b53d1ea41",
   "metadata": {
    "tags": []
   },
   "outputs": [],
   "source": [
    "crop_data=pd.concat([crop_data,crop_presence_data['Class of Land']],axis=1)"
   ]
  },
  {
   "cell_type": "code",
   "execution_count": 8,
   "id": "1c72d694-8d42-4265-93cb-7f6676282b86",
   "metadata": {
    "tags": []
   },
   "outputs": [],
   "source": [
    "crop_data.to_csv(\"indices.csv\")"
   ]
  },
  {
   "cell_type": "code",
   "execution_count": 9,
   "id": "d8d184ce-a478-48ef-a627-9673b34ae65e",
   "metadata": {
    "tags": []
   },
   "outputs": [
    {
     "data": {
      "text/html": [
       "<div>\n",
       "<style scoped>\n",
       "    .dataframe tbody tr th:only-of-type {\n",
       "        vertical-align: middle;\n",
       "    }\n",
       "\n",
       "    .dataframe tbody tr th {\n",
       "        vertical-align: top;\n",
       "    }\n",
       "\n",
       "    .dataframe thead th {\n",
       "        text-align: right;\n",
       "    }\n",
       "</style>\n",
       "<table border=\"1\" class=\"dataframe\">\n",
       "  <thead>\n",
       "    <tr style=\"text-align: right;\">\n",
       "      <th></th>\n",
       "      <th>NDVI_veg</th>\n",
       "      <th>EVI_veg</th>\n",
       "      <th>RGVI_veg</th>\n",
       "      <th>NDBI_veg</th>\n",
       "      <th>DVI_veg</th>\n",
       "      <th>IPVI_veg</th>\n",
       "      <th>MSAVI_veg</th>\n",
       "      <th>NDWI_veg</th>\n",
       "      <th>NDVI_veg2</th>\n",
       "      <th>EVI_veg2</th>\n",
       "      <th>...</th>\n",
       "      <th>NDWI_rip</th>\n",
       "      <th>NDVI_rip2</th>\n",
       "      <th>EVI_rip2</th>\n",
       "      <th>RGVI_rip2</th>\n",
       "      <th>NDBI_rip2</th>\n",
       "      <th>DVI_rip2</th>\n",
       "      <th>IPVI_rip2</th>\n",
       "      <th>MSAVI_rip2</th>\n",
       "      <th>NDWI_rip2</th>\n",
       "      <th>Class of Land</th>\n",
       "    </tr>\n",
       "  </thead>\n",
       "  <tbody>\n",
       "    <tr>\n",
       "      <th>0</th>\n",
       "      <td>0.422074</td>\n",
       "      <td>0.118437</td>\n",
       "      <td>1.068070</td>\n",
       "      <td>-0.140804</td>\n",
       "      <td>525.595960</td>\n",
       "      <td>0.647893</td>\n",
       "      <td>0.699580</td>\n",
       "      <td>0.699580</td>\n",
       "      <td>0.167972</td>\n",
       "      <td>0.033225</td>\n",
       "      <td>...</td>\n",
       "      <td>0.699580</td>\n",
       "      <td>0.092286</td>\n",
       "      <td>0.003993</td>\n",
       "      <td>1.028753</td>\n",
       "      <td>-0.199213</td>\n",
       "      <td>387.070707</td>\n",
       "      <td>0.579675</td>\n",
       "      <td>0.620732</td>\n",
       "      <td>0.517459</td>\n",
       "      <td>Rice</td>\n",
       "    </tr>\n",
       "    <tr>\n",
       "      <th>1</th>\n",
       "      <td>0.360787</td>\n",
       "      <td>0.102294</td>\n",
       "      <td>1.089308</td>\n",
       "      <td>-0.322961</td>\n",
       "      <td>676.000000</td>\n",
       "      <td>0.630994</td>\n",
       "      <td>0.700635</td>\n",
       "      <td>0.700635</td>\n",
       "      <td>0.378719</td>\n",
       "      <td>0.080842</td>\n",
       "      <td>...</td>\n",
       "      <td>0.700635</td>\n",
       "      <td>0.070908</td>\n",
       "      <td>0.004759</td>\n",
       "      <td>1.026593</td>\n",
       "      <td>-0.233825</td>\n",
       "      <td>798.232323</td>\n",
       "      <td>0.739109</td>\n",
       "      <td>0.664017</td>\n",
       "      <td>0.522658</td>\n",
       "      <td>Rice</td>\n",
       "    </tr>\n",
       "    <tr>\n",
       "      <th>2</th>\n",
       "      <td>0.370390</td>\n",
       "      <td>0.102235</td>\n",
       "      <td>1.078377</td>\n",
       "      <td>-0.159285</td>\n",
       "      <td>420.969697</td>\n",
       "      <td>0.623016</td>\n",
       "      <td>0.680218</td>\n",
       "      <td>0.680218</td>\n",
       "      <td>0.203749</td>\n",
       "      <td>0.042147</td>\n",
       "      <td>...</td>\n",
       "      <td>0.680218</td>\n",
       "      <td>0.226936</td>\n",
       "      <td>0.005013</td>\n",
       "      <td>1.016627</td>\n",
       "      <td>-0.123399</td>\n",
       "      <td>422.191919</td>\n",
       "      <td>0.596699</td>\n",
       "      <td>0.651263</td>\n",
       "      <td>0.518498</td>\n",
       "      <td>Rice</td>\n",
       "    </tr>\n",
       "    <tr>\n",
       "      <th>3</th>\n",
       "      <td>0.421787</td>\n",
       "      <td>0.127217</td>\n",
       "      <td>1.077879</td>\n",
       "      <td>-0.195307</td>\n",
       "      <td>532.780303</td>\n",
       "      <td>0.625428</td>\n",
       "      <td>0.693529</td>\n",
       "      <td>0.693529</td>\n",
       "      <td>0.146944</td>\n",
       "      <td>0.027215</td>\n",
       "      <td>...</td>\n",
       "      <td>0.693529</td>\n",
       "      <td>0.093788</td>\n",
       "      <td>0.001896</td>\n",
       "      <td>1.053283</td>\n",
       "      <td>-0.217245</td>\n",
       "      <td>250.856061</td>\n",
       "      <td>0.570293</td>\n",
       "      <td>0.599636</td>\n",
       "      <td>0.508575</td>\n",
       "      <td>Rice</td>\n",
       "    </tr>\n",
       "    <tr>\n",
       "      <th>4</th>\n",
       "      <td>0.234421</td>\n",
       "      <td>0.054358</td>\n",
       "      <td>1.119928</td>\n",
       "      <td>-0.228668</td>\n",
       "      <td>243.386364</td>\n",
       "      <td>0.602747</td>\n",
       "      <td>0.642504</td>\n",
       "      <td>0.642504</td>\n",
       "      <td>0.206149</td>\n",
       "      <td>0.067763</td>\n",
       "      <td>...</td>\n",
       "      <td>0.642504</td>\n",
       "      <td>0.130103</td>\n",
       "      <td>0.007449</td>\n",
       "      <td>1.038440</td>\n",
       "      <td>-0.196054</td>\n",
       "      <td>998.113636</td>\n",
       "      <td>0.666157</td>\n",
       "      <td>0.652044</td>\n",
       "      <td>0.530362</td>\n",
       "      <td>Rice</td>\n",
       "    </tr>\n",
       "    <tr>\n",
       "      <th>...</th>\n",
       "      <td>...</td>\n",
       "      <td>...</td>\n",
       "      <td>...</td>\n",
       "      <td>...</td>\n",
       "      <td>...</td>\n",
       "      <td>...</td>\n",
       "      <td>...</td>\n",
       "      <td>...</td>\n",
       "      <td>...</td>\n",
       "      <td>...</td>\n",
       "      <td>...</td>\n",
       "      <td>...</td>\n",
       "      <td>...</td>\n",
       "      <td>...</td>\n",
       "      <td>...</td>\n",
       "      <td>...</td>\n",
       "      <td>...</td>\n",
       "      <td>...</td>\n",
       "      <td>...</td>\n",
       "      <td>...</td>\n",
       "      <td>...</td>\n",
       "    </tr>\n",
       "    <tr>\n",
       "      <th>595</th>\n",
       "      <td>0.805688</td>\n",
       "      <td>0.335743</td>\n",
       "      <td>1.006032</td>\n",
       "      <td>-0.336282</td>\n",
       "      <td>1468.424242</td>\n",
       "      <td>0.908002</td>\n",
       "      <td>0.821733</td>\n",
       "      <td>0.821733</td>\n",
       "      <td>0.488007</td>\n",
       "      <td>0.019097</td>\n",
       "      <td>...</td>\n",
       "      <td>0.821733</td>\n",
       "      <td>0.428861</td>\n",
       "      <td>0.072752</td>\n",
       "      <td>1.007580</td>\n",
       "      <td>-0.229370</td>\n",
       "      <td>305.393939</td>\n",
       "      <td>0.744004</td>\n",
       "      <td>0.545553</td>\n",
       "      <td>0.672730</td>\n",
       "      <td>Non Rice</td>\n",
       "    </tr>\n",
       "    <tr>\n",
       "      <th>596</th>\n",
       "      <td>0.772876</td>\n",
       "      <td>0.299192</td>\n",
       "      <td>1.012224</td>\n",
       "      <td>-0.276114</td>\n",
       "      <td>1375.303030</td>\n",
       "      <td>0.881113</td>\n",
       "      <td>0.814351</td>\n",
       "      <td>0.814351</td>\n",
       "      <td>0.559802</td>\n",
       "      <td>0.025692</td>\n",
       "      <td>...</td>\n",
       "      <td>0.814351</td>\n",
       "      <td>0.428185</td>\n",
       "      <td>0.070864</td>\n",
       "      <td>0.997849</td>\n",
       "      <td>-0.247616</td>\n",
       "      <td>342.916667</td>\n",
       "      <td>0.779901</td>\n",
       "      <td>0.549850</td>\n",
       "      <td>0.673628</td>\n",
       "      <td>Non Rice</td>\n",
       "    </tr>\n",
       "    <tr>\n",
       "      <th>597</th>\n",
       "      <td>0.763383</td>\n",
       "      <td>0.291757</td>\n",
       "      <td>1.013963</td>\n",
       "      <td>-0.284230</td>\n",
       "      <td>1301.181818</td>\n",
       "      <td>0.881704</td>\n",
       "      <td>0.812914</td>\n",
       "      <td>0.812914</td>\n",
       "      <td>0.549541</td>\n",
       "      <td>0.024948</td>\n",
       "      <td>...</td>\n",
       "      <td>0.812914</td>\n",
       "      <td>0.448632</td>\n",
       "      <td>0.074878</td>\n",
       "      <td>0.989211</td>\n",
       "      <td>-0.252437</td>\n",
       "      <td>327.737374</td>\n",
       "      <td>0.774771</td>\n",
       "      <td>0.549260</td>\n",
       "      <td>0.679586</td>\n",
       "      <td>Non Rice</td>\n",
       "    </tr>\n",
       "    <tr>\n",
       "      <th>598</th>\n",
       "      <td>0.830266</td>\n",
       "      <td>0.371834</td>\n",
       "      <td>1.006261</td>\n",
       "      <td>-0.383916</td>\n",
       "      <td>1579.742424</td>\n",
       "      <td>0.919756</td>\n",
       "      <td>0.827403</td>\n",
       "      <td>0.827403</td>\n",
       "      <td>0.582559</td>\n",
       "      <td>0.027712</td>\n",
       "      <td>...</td>\n",
       "      <td>0.827403</td>\n",
       "      <td>0.476421</td>\n",
       "      <td>0.084578</td>\n",
       "      <td>0.993613</td>\n",
       "      <td>-0.290682</td>\n",
       "      <td>348.590909</td>\n",
       "      <td>0.791279</td>\n",
       "      <td>0.551130</td>\n",
       "      <td>0.685898</td>\n",
       "      <td>Non Rice</td>\n",
       "    </tr>\n",
       "    <tr>\n",
       "      <th>599</th>\n",
       "      <td>0.838039</td>\n",
       "      <td>0.376983</td>\n",
       "      <td>1.002460</td>\n",
       "      <td>-0.385990</td>\n",
       "      <td>1658.727273</td>\n",
       "      <td>0.921873</td>\n",
       "      <td>0.829639</td>\n",
       "      <td>0.829639</td>\n",
       "      <td>0.591138</td>\n",
       "      <td>0.028424</td>\n",
       "      <td>...</td>\n",
       "      <td>0.829639</td>\n",
       "      <td>0.480255</td>\n",
       "      <td>0.086709</td>\n",
       "      <td>0.994703</td>\n",
       "      <td>-0.298746</td>\n",
       "      <td>353.595960</td>\n",
       "      <td>0.795569</td>\n",
       "      <td>0.551604</td>\n",
       "      <td>0.686505</td>\n",
       "      <td>Non Rice</td>\n",
       "    </tr>\n",
       "  </tbody>\n",
       "</table>\n",
       "<p>600 rows × 49 columns</p>\n",
       "</div>"
      ],
      "text/plain": [
       "     NDVI_veg   EVI_veg  RGVI_veg  NDBI_veg      DVI_veg  IPVI_veg  MSAVI_veg  \\\n",
       "0    0.422074  0.118437  1.068070 -0.140804   525.595960  0.647893   0.699580   \n",
       "1    0.360787  0.102294  1.089308 -0.322961   676.000000  0.630994   0.700635   \n",
       "2    0.370390  0.102235  1.078377 -0.159285   420.969697  0.623016   0.680218   \n",
       "3    0.421787  0.127217  1.077879 -0.195307   532.780303  0.625428   0.693529   \n",
       "4    0.234421  0.054358  1.119928 -0.228668   243.386364  0.602747   0.642504   \n",
       "..        ...       ...       ...       ...          ...       ...        ...   \n",
       "595  0.805688  0.335743  1.006032 -0.336282  1468.424242  0.908002   0.821733   \n",
       "596  0.772876  0.299192  1.012224 -0.276114  1375.303030  0.881113   0.814351   \n",
       "597  0.763383  0.291757  1.013963 -0.284230  1301.181818  0.881704   0.812914   \n",
       "598  0.830266  0.371834  1.006261 -0.383916  1579.742424  0.919756   0.827403   \n",
       "599  0.838039  0.376983  1.002460 -0.385990  1658.727273  0.921873   0.829639   \n",
       "\n",
       "     NDWI_veg  NDVI_veg2  EVI_veg2  ...  NDWI_rip  NDVI_rip2  EVI_rip2  \\\n",
       "0    0.699580   0.167972  0.033225  ...  0.699580   0.092286  0.003993   \n",
       "1    0.700635   0.378719  0.080842  ...  0.700635   0.070908  0.004759   \n",
       "2    0.680218   0.203749  0.042147  ...  0.680218   0.226936  0.005013   \n",
       "3    0.693529   0.146944  0.027215  ...  0.693529   0.093788  0.001896   \n",
       "4    0.642504   0.206149  0.067763  ...  0.642504   0.130103  0.007449   \n",
       "..        ...        ...       ...  ...       ...        ...       ...   \n",
       "595  0.821733   0.488007  0.019097  ...  0.821733   0.428861  0.072752   \n",
       "596  0.814351   0.559802  0.025692  ...  0.814351   0.428185  0.070864   \n",
       "597  0.812914   0.549541  0.024948  ...  0.812914   0.448632  0.074878   \n",
       "598  0.827403   0.582559  0.027712  ...  0.827403   0.476421  0.084578   \n",
       "599  0.829639   0.591138  0.028424  ...  0.829639   0.480255  0.086709   \n",
       "\n",
       "     RGVI_rip2  NDBI_rip2    DVI_rip2  IPVI_rip2  MSAVI_rip2  NDWI_rip2  \\\n",
       "0     1.028753  -0.199213  387.070707   0.579675    0.620732   0.517459   \n",
       "1     1.026593  -0.233825  798.232323   0.739109    0.664017   0.522658   \n",
       "2     1.016627  -0.123399  422.191919   0.596699    0.651263   0.518498   \n",
       "3     1.053283  -0.217245  250.856061   0.570293    0.599636   0.508575   \n",
       "4     1.038440  -0.196054  998.113636   0.666157    0.652044   0.530362   \n",
       "..         ...        ...         ...        ...         ...        ...   \n",
       "595   1.007580  -0.229370  305.393939   0.744004    0.545553   0.672730   \n",
       "596   0.997849  -0.247616  342.916667   0.779901    0.549850   0.673628   \n",
       "597   0.989211  -0.252437  327.737374   0.774771    0.549260   0.679586   \n",
       "598   0.993613  -0.290682  348.590909   0.791279    0.551130   0.685898   \n",
       "599   0.994703  -0.298746  353.595960   0.795569    0.551604   0.686505   \n",
       "\n",
       "     Class of Land  \n",
       "0             Rice  \n",
       "1             Rice  \n",
       "2             Rice  \n",
       "3             Rice  \n",
       "4             Rice  \n",
       "..             ...  \n",
       "595       Non Rice  \n",
       "596       Non Rice  \n",
       "597       Non Rice  \n",
       "598       Non Rice  \n",
       "599       Non Rice  \n",
       "\n",
       "[600 rows x 49 columns]"
      ]
     },
     "execution_count": 9,
     "metadata": {},
     "output_type": "execute_result"
    }
   ],
   "source": [
    "crop_data"
   ]
  },
  {
   "cell_type": "markdown",
   "id": "7ead1466-1c7d-4b43-8079-76299d1e5f1d",
   "metadata": {},
   "source": [
    "# Filling Null Values\n",
    "During the filtering process, water locations were completely masked out resulting in null values of indices.\n",
    "Hence adding back the index values of water for respective indices \\\n",
    "NDVI=-1 \\\n",
    "RGVI=0"
   ]
  },
  {
   "cell_type": "code",
   "execution_count": 10,
   "id": "738a1acf-8a75-4297-8098-66df43fbec12",
   "metadata": {
    "tags": []
   },
   "outputs": [
    {
     "data": {
      "text/plain": [
       "NDVI_veg         100\n",
       "EVI_veg            0\n",
       "RGVI_veg         100\n",
       "NDBI_veg         100\n",
       "DVI_veg            0\n",
       "IPVI_veg         100\n",
       "MSAVI_veg          0\n",
       "NDWI_veg           0\n",
       "NDVI_veg2        100\n",
       "EVI_veg2           0\n",
       "RGVI_veg2        100\n",
       "NDBI_veg2        100\n",
       "DVI_veg2           0\n",
       "IPVI_veg2        100\n",
       "MSAVI_veg2         0\n",
       "NDWI_veg2          0\n",
       "NDVI_rep          99\n",
       "EVI_rep            0\n",
       "RGVI_rep          99\n",
       "NDBI_rep         100\n",
       "DVI_rep            0\n",
       "IPVI_rep         100\n",
       "MSAVI_rep          0\n",
       "NDWI_rep           0\n",
       "NDVI_rep2        100\n",
       "EVI_rep2           0\n",
       "RGVI_rep2        100\n",
       "NDBI_rep2        100\n",
       "DVI_rep2           0\n",
       "IPVI_rep2        100\n",
       "MSAVI_rep2         0\n",
       "NDWI_rep2          0\n",
       "NDVI_rip          99\n",
       "EVI_rip            0\n",
       "RGVI_rip          99\n",
       "NDBI_rip         100\n",
       "DVI_rip            0\n",
       "IPVI_rip         100\n",
       "MSAVI_rip          0\n",
       "NDWI_rip           0\n",
       "NDVI_rip2        120\n",
       "EVI_rip2           0\n",
       "RGVI_rip2        120\n",
       "NDBI_rip2        100\n",
       "DVI_rip2           0\n",
       "IPVI_rip2        100\n",
       "MSAVI_rip2         0\n",
       "NDWI_rip2          0\n",
       "Class of Land      0\n",
       "dtype: int64"
      ]
     },
     "execution_count": 10,
     "metadata": {},
     "output_type": "execute_result"
    }
   ],
   "source": [
    "crop_data.isnull().sum()"
   ]
  },
  {
   "cell_type": "code",
   "execution_count": 11,
   "id": "677ff02c-9a67-4b56-81db-6419450c7d8a",
   "metadata": {
    "tags": []
   },
   "outputs": [],
   "source": [
    "#nvdi null values\n",
    "crop_data[['NDVI_veg','NDVI_veg2','NDVI_rep','NDVI_rep2','NDVI_rip','NDVI_rip2']]=crop_data[['NDVI_veg','NDVI_veg2','NDVI_rep','NDVI_rep2','NDVI_rip','NDVI_rip2']].fillna(-1)"
   ]
  },
  {
   "cell_type": "code",
   "execution_count": 12,
   "id": "2c7d705d-3f7a-4cc8-9fb9-d0da037535b4",
   "metadata": {
    "tags": []
   },
   "outputs": [],
   "source": [
    "#rgvi null values\n",
    "crop_data[['RGVI_veg','RGVI_veg2','RGVI_rep','RGVI_rep2','RGVI_rip','RGVI_rip2']]=crop_data[['RGVI_veg','RGVI_veg2','RGVI_rep','RGVI_rep2','RGVI_rip','RGVI_rip2']].fillna(0)"
   ]
  },
  {
   "cell_type": "code",
   "execution_count": 13,
   "id": "84f7fd39-a8c1-43bd-b108-885400ac9c6d",
   "metadata": {
    "tags": []
   },
   "outputs": [],
   "source": [
    "#ipvi null values\n",
    "crop_data[['IPVI_veg', 'IPVI_veg2', 'IPVI_rep', 'IPVI_rep2', 'IPVI_rip', 'IPVI_rip2']]=crop_data[['IPVI_veg', 'IPVI_veg2', 'IPVI_rep', 'IPVI_rep2', 'IPVI_rip', 'IPVI_rip2']] = crop_data[['RGVI_veg', 'RGVI_veg2', 'RGVI_rep', 'RGVI_rep2', 'RGVI_rip', 'RGVI_rip2']].fillna(0)\n"
   ]
  },
  {
   "cell_type": "code",
   "execution_count": 14,
   "id": "84194251-a1e3-4d8a-b134-f5f37f859e2b",
   "metadata": {
    "tags": []
   },
   "outputs": [],
   "source": [
    "#NDBI null values\n",
    "crop_data[['NDBI_veg', 'NDBI_veg2', 'NDBI_rep', 'NDBI_rep2', 'NDBI_rip', 'NDBI_rip2']]=crop_data[['NDBI_veg', 'NDBI_veg2', 'NDBI_rep', 'NDBI_rep2', 'NDBI_rip', 'NDBI_rip2']].fillna(-0.5)"
   ]
  },
  {
   "cell_type": "markdown",
   "id": "164e45b0-308a-440a-ba23-27e47b025660",
   "metadata": {},
   "source": [
    "# Model Training"
   ]
  },
  {
   "cell_type": "code",
   "execution_count": 15,
   "id": "ef3384ac-cc80-4a64-bd92-ea7765527d6b",
   "metadata": {},
   "outputs": [],
   "source": [
    "X = crop_data.drop(columns=['Class of Land'])\n",
    "y = crop_data['Class of Land'].values\n",
    "y = np.where(y == 'Rice', 1, 0)\n",
    "X_train, X_test, y_train, y_test = train_test_split(X, y, test_size=0.3,stratify=y,random_state=40)"
   ]
  },
  {
   "cell_type": "code",
   "execution_count": 16,
   "id": "529e3b01",
   "metadata": {
    "tags": []
   },
   "outputs": [],
   "source": [
    "#FEATURE SCALING\n",
    "sc = RobustScaler()\n",
    "X_train = sc.fit_transform(X_train)\n",
    "X_test = sc.transform(X_test)"
   ]
  },
  {
   "cell_type": "code",
   "execution_count": 17,
   "id": "a51dfb0e",
   "metadata": {
    "tags": []
   },
   "outputs": [],
   "source": [
    "#Function for confusion matrix\n",
    "def plot_confusion_matrix(true_value,predicted_value,title,labels):\n",
    "    '''\n",
    "    Plots a confusion matrix.\n",
    "    Attributes:\n",
    "    true_value - The ground truth value for comparision.\n",
    "    predicted_value - The values predicted by the model.\n",
    "    title - Title of the plot.\n",
    "    labels - The x and y labels of the plot.\n",
    "    '''\n",
    "    cm = confusion_matrix(true_value,predicted_value)\n",
    "    ax= plt.subplot()\n",
    "    sns.heatmap(cm, annot=True, fmt='g', ax=ax, cmap='Blues');\n",
    "    ax.set_xlabel('Predicted labels');\n",
    "    ax.set_ylabel('True labels'); \n",
    "    ax.set_title(title); \n",
    "    ax.xaxis.set_ticklabels(labels); \n",
    "    ax.yaxis.set_ticklabels(labels);\n",
    "    "
   ]
  },
  {
   "cell_type": "markdown",
   "id": "5fbed727-8268-4dd9-a638-4d18e2f0d873",
   "metadata": {},
   "source": [
    "# Logistic Regression"
   ]
  },
  {
   "cell_type": "code",
   "execution_count": 18,
   "id": "98190a54",
   "metadata": {
    "tags": []
   },
   "outputs": [
    {
     "data": {
      "text/html": [
       "<style>#sk-container-id-1 {color: black;background-color: white;}#sk-container-id-1 pre{padding: 0;}#sk-container-id-1 div.sk-toggleable {background-color: white;}#sk-container-id-1 label.sk-toggleable__label {cursor: pointer;display: block;width: 100%;margin-bottom: 0;padding: 0.3em;box-sizing: border-box;text-align: center;}#sk-container-id-1 label.sk-toggleable__label-arrow:before {content: \"▸\";float: left;margin-right: 0.25em;color: #696969;}#sk-container-id-1 label.sk-toggleable__label-arrow:hover:before {color: black;}#sk-container-id-1 div.sk-estimator:hover label.sk-toggleable__label-arrow:before {color: black;}#sk-container-id-1 div.sk-toggleable__content {max-height: 0;max-width: 0;overflow: hidden;text-align: left;background-color: #f0f8ff;}#sk-container-id-1 div.sk-toggleable__content pre {margin: 0.2em;color: black;border-radius: 0.25em;background-color: #f0f8ff;}#sk-container-id-1 input.sk-toggleable__control:checked~div.sk-toggleable__content {max-height: 200px;max-width: 100%;overflow: auto;}#sk-container-id-1 input.sk-toggleable__control:checked~label.sk-toggleable__label-arrow:before {content: \"▾\";}#sk-container-id-1 div.sk-estimator input.sk-toggleable__control:checked~label.sk-toggleable__label {background-color: #d4ebff;}#sk-container-id-1 div.sk-label input.sk-toggleable__control:checked~label.sk-toggleable__label {background-color: #d4ebff;}#sk-container-id-1 input.sk-hidden--visually {border: 0;clip: rect(1px 1px 1px 1px);clip: rect(1px, 1px, 1px, 1px);height: 1px;margin: -1px;overflow: hidden;padding: 0;position: absolute;width: 1px;}#sk-container-id-1 div.sk-estimator {font-family: monospace;background-color: #f0f8ff;border: 1px dotted black;border-radius: 0.25em;box-sizing: border-box;margin-bottom: 0.5em;}#sk-container-id-1 div.sk-estimator:hover {background-color: #d4ebff;}#sk-container-id-1 div.sk-parallel-item::after {content: \"\";width: 100%;border-bottom: 1px solid gray;flex-grow: 1;}#sk-container-id-1 div.sk-label:hover label.sk-toggleable__label {background-color: #d4ebff;}#sk-container-id-1 div.sk-serial::before {content: \"\";position: absolute;border-left: 1px solid gray;box-sizing: border-box;top: 0;bottom: 0;left: 50%;z-index: 0;}#sk-container-id-1 div.sk-serial {display: flex;flex-direction: column;align-items: center;background-color: white;padding-right: 0.2em;padding-left: 0.2em;position: relative;}#sk-container-id-1 div.sk-item {position: relative;z-index: 1;}#sk-container-id-1 div.sk-parallel {display: flex;align-items: stretch;justify-content: center;background-color: white;position: relative;}#sk-container-id-1 div.sk-item::before, #sk-container-id-1 div.sk-parallel-item::before {content: \"\";position: absolute;border-left: 1px solid gray;box-sizing: border-box;top: 0;bottom: 0;left: 50%;z-index: -1;}#sk-container-id-1 div.sk-parallel-item {display: flex;flex-direction: column;z-index: 1;position: relative;background-color: white;}#sk-container-id-1 div.sk-parallel-item:first-child::after {align-self: flex-end;width: 50%;}#sk-container-id-1 div.sk-parallel-item:last-child::after {align-self: flex-start;width: 50%;}#sk-container-id-1 div.sk-parallel-item:only-child::after {width: 0;}#sk-container-id-1 div.sk-dashed-wrapped {border: 1px dashed gray;margin: 0 0.4em 0.5em 0.4em;box-sizing: border-box;padding-bottom: 0.4em;background-color: white;}#sk-container-id-1 div.sk-label label {font-family: monospace;font-weight: bold;display: inline-block;line-height: 1.2em;}#sk-container-id-1 div.sk-label-container {text-align: center;}#sk-container-id-1 div.sk-container {/* jupyter's `normalize.less` sets `[hidden] { display: none; }` but bootstrap.min.css set `[hidden] { display: none !important; }` so we also need the `!important` here to be able to override the default hidden behavior on the sphinx rendered scikit-learn.org. See: https://github.com/scikit-learn/scikit-learn/issues/21755 */display: inline-block !important;position: relative;}#sk-container-id-1 div.sk-text-repr-fallback {display: none;}</style><div id=\"sk-container-id-1\" class=\"sk-top-container\"><div class=\"sk-text-repr-fallback\"><pre>LogisticRegression()</pre><b>In a Jupyter environment, please rerun this cell to show the HTML representation or trust the notebook. <br />On GitHub, the HTML representation is unable to render, please try loading this page with nbviewer.org.</b></div><div class=\"sk-container\" hidden><div class=\"sk-item\"><div class=\"sk-estimator sk-toggleable\"><input class=\"sk-toggleable__control sk-hidden--visually\" id=\"sk-estimator-id-1\" type=\"checkbox\" checked><label for=\"sk-estimator-id-1\" class=\"sk-toggleable__label sk-toggleable__label-arrow\">LogisticRegression</label><div class=\"sk-toggleable__content\"><pre>LogisticRegression()</pre></div></div></div></div></div>"
      ],
      "text/plain": [
       "LogisticRegression()"
      ]
     },
     "execution_count": 18,
     "metadata": {},
     "output_type": "execute_result"
    }
   ],
   "source": [
    "model = LogisticRegression(solver='lbfgs')\n",
    "model.fit(X_train,y_train)"
   ]
  },
  {
   "cell_type": "code",
   "execution_count": 19,
   "id": "0624d6b5-4aa5-45f2-bfc4-d3b4c0ea1963",
   "metadata": {
    "tags": []
   },
   "outputs": [],
   "source": [
    "y_pred = model.predict(X_test)"
   ]
  },
  {
   "cell_type": "code",
   "execution_count": 20,
   "id": "3a175615-a3b6-41d9-bdc5-2edf8c2ee2de",
   "metadata": {
    "tags": []
   },
   "outputs": [
    {
     "name": "stdout",
     "output_type": "stream",
     "text": [
      "Accuracy 98.89%\n",
      "              precision    recall  f1-score   support\n",
      "\n",
      "           0       0.99      0.99      0.99        90\n",
      "           1       0.99      0.99      0.99        90\n",
      "\n",
      "    accuracy                           0.99       180\n",
      "   macro avg       0.99      0.99      0.99       180\n",
      "weighted avg       0.99      0.99      0.99       180\n",
      "\n"
     ]
    }
   ],
   "source": [
    "print(\"Accuracy {0:.2f}%\".format(100*accuracy_score(y_pred, y_test)))\n",
    "print(classification_report(y_test, y_pred))"
   ]
  },
  {
   "cell_type": "code",
   "execution_count": 21,
   "id": "1196d542-727c-48e4-b3ed-beabbf3dd750",
   "metadata": {
    "tags": []
   },
   "outputs": [
    {
     "data": {
      "image/png": "[encoded data removed]",
      "text/plain": [
       "<Figure size 640x480 with 2 Axes>"
      ]
     },
     "metadata": {},
     "output_type": "display_data"
    }
   ],
   "source": [
    "plot_confusion_matrix(y_test, y_pred,\"Logistic Regression Model\",['Rice', 'Non Rice'])"
   ]
  },
  {
   "cell_type": "markdown",
   "id": "5d936e0c-6562-4d04-bb38-c343a8bcb86d",
   "metadata": {
    "tags": []
   },
   "source": [
    "# KNN model"
   ]
  },
  {
   "cell_type": "code",
   "execution_count": 22,
   "id": "efb0f64a-1bbf-4f6e-bc84-3f94f665a73c",
   "metadata": {
    "tags": []
   },
   "outputs": [
    {
     "data": {
      "text/html": [
       "<style>#sk-container-id-2 {color: black;background-color: white;}#sk-container-id-2 pre{padding: 0;}#sk-container-id-2 div.sk-toggleable {background-color: white;}#sk-container-id-2 label.sk-toggleable__label {cursor: pointer;display: block;width: 100%;margin-bottom: 0;padding: 0.3em;box-sizing: border-box;text-align: center;}#sk-container-id-2 label.sk-toggleable__label-arrow:before {content: \"▸\";float: left;margin-right: 0.25em;color: #696969;}#sk-container-id-2 label.sk-toggleable__label-arrow:hover:before {color: black;}#sk-container-id-2 div.sk-estimator:hover label.sk-toggleable__label-arrow:before {color: black;}#sk-container-id-2 div.sk-toggleable__content {max-height: 0;max-width: 0;overflow: hidden;text-align: left;background-color: #f0f8ff;}#sk-container-id-2 div.sk-toggleable__content pre {margin: 0.2em;color: black;border-radius: 0.25em;background-color: #f0f8ff;}#sk-container-id-2 input.sk-toggleable__control:checked~div.sk-toggleable__content {max-height: 200px;max-width: 100%;overflow: auto;}#sk-container-id-2 input.sk-toggleable__control:checked~label.sk-toggleable__label-arrow:before {content: \"▾\";}#sk-container-id-2 div.sk-estimator input.sk-toggleable__control:checked~label.sk-toggleable__label {background-color: #d4ebff;}#sk-container-id-2 div.sk-label input.sk-toggleable__control:checked~label.sk-toggleable__label {background-color: #d4ebff;}#sk-container-id-2 input.sk-hidden--visually {border: 0;clip: rect(1px 1px 1px 1px);clip: rect(1px, 1px, 1px, 1px);height: 1px;margin: -1px;overflow: hidden;padding: 0;position: absolute;width: 1px;}#sk-container-id-2 div.sk-estimator {font-family: monospace;background-color: #f0f8ff;border: 1px dotted black;border-radius: 0.25em;box-sizing: border-box;margin-bottom: 0.5em;}#sk-container-id-2 div.sk-estimator:hover {background-color: #d4ebff;}#sk-container-id-2 div.sk-parallel-item::after {content: \"\";width: 100%;border-bottom: 1px solid gray;flex-grow: 1;}#sk-container-id-2 div.sk-label:hover label.sk-toggleable__label {background-color: #d4ebff;}#sk-container-id-2 div.sk-serial::before {content: \"\";position: absolute;border-left: 1px solid gray;box-sizing: border-box;top: 0;bottom: 0;left: 50%;z-index: 0;}#sk-container-id-2 div.sk-serial {display: flex;flex-direction: column;align-items: center;background-color: white;padding-right: 0.2em;padding-left: 0.2em;position: relative;}#sk-container-id-2 div.sk-item {position: relative;z-index: 1;}#sk-container-id-2 div.sk-parallel {display: flex;align-items: stretch;justify-content: center;background-color: white;position: relative;}#sk-container-id-2 div.sk-item::before, #sk-container-id-2 div.sk-parallel-item::before {content: \"\";position: absolute;border-left: 1px solid gray;box-sizing: border-box;top: 0;bottom: 0;left: 50%;z-index: -1;}#sk-container-id-2 div.sk-parallel-item {display: flex;flex-direction: column;z-index: 1;position: relative;background-color: white;}#sk-container-id-2 div.sk-parallel-item:first-child::after {align-self: flex-end;width: 50%;}#sk-container-id-2 div.sk-parallel-item:last-child::after {align-self: flex-start;width: 50%;}#sk-container-id-2 div.sk-parallel-item:only-child::after {width: 0;}#sk-container-id-2 div.sk-dashed-wrapped {border: 1px dashed gray;margin: 0 0.4em 0.5em 0.4em;box-sizing: border-box;padding-bottom: 0.4em;background-color: white;}#sk-container-id-2 div.sk-label label {font-family: monospace;font-weight: bold;display: inline-block;line-height: 1.2em;}#sk-container-id-2 div.sk-label-container {text-align: center;}#sk-container-id-2 div.sk-container {/* jupyter's `normalize.less` sets `[hidden] { display: none; }` but bootstrap.min.css set `[hidden] { display: none !important; }` so we also need the `!important` here to be able to override the default hidden behavior on the sphinx rendered scikit-learn.org. See: https://github.com/scikit-learn/scikit-learn/issues/21755 */display: inline-block !important;position: relative;}#sk-container-id-2 div.sk-text-repr-fallback {display: none;}</style><div id=\"sk-container-id-2\" class=\"sk-top-container\"><div class=\"sk-text-repr-fallback\"><pre>KNeighborsClassifier()</pre><b>In a Jupyter environment, please rerun this cell to show the HTML representation or trust the notebook. <br />On GitHub, the HTML representation is unable to render, please try loading this page with nbviewer.org.</b></div><div class=\"sk-container\" hidden><div class=\"sk-item\"><div class=\"sk-estimator sk-toggleable\"><input class=\"sk-toggleable__control sk-hidden--visually\" id=\"sk-estimator-id-2\" type=\"checkbox\" checked><label for=\"sk-estimator-id-2\" class=\"sk-toggleable__label sk-toggleable__label-arrow\">KNeighborsClassifier</label><div class=\"sk-toggleable__content\"><pre>KNeighborsClassifier()</pre></div></div></div></div></div>"
      ],
      "text/plain": [
       "KNeighborsClassifier()"
      ]
     },
     "execution_count": 22,
     "metadata": {},
     "output_type": "execute_result"
    }
   ],
   "source": [
    "model_2=KNeighborsClassifier(n_neighbors=5)\n",
    "model_2.fit(X_train,y_train)"
   ]
  },
  {
   "cell_type": "code",
   "execution_count": 23,
   "id": "15551661-f2e9-441c-8c46-b74bcf32d3e7",
   "metadata": {
    "tags": []
   },
   "outputs": [],
   "source": [
    "y_pred2=model_2.predict(X_test)"
   ]
  },
  {
   "cell_type": "code",
   "execution_count": 24,
   "id": "3e3d2499-ea1d-431f-83db-18a8e8973e8d",
   "metadata": {
    "tags": []
   },
   "outputs": [
    {
     "name": "stdout",
     "output_type": "stream",
     "text": [
      "Accuracy 100.00%\n",
      "              precision    recall  f1-score   support\n",
      "\n",
      "           0       1.00      1.00      1.00        90\n",
      "           1       1.00      1.00      1.00        90\n",
      "\n",
      "    accuracy                           1.00       180\n",
      "   macro avg       1.00      1.00      1.00       180\n",
      "weighted avg       1.00      1.00      1.00       180\n",
      "\n"
     ]
    }
   ],
   "source": [
    "print(\"Accuracy {0:.2f}%\".format(100*accuracy_score(y_test,y_pred2)))\n",
    "print(classification_report(y_test, y_pred2))"
   ]
  },
  {
   "cell_type": "code",
   "execution_count": 25,
   "id": "93c8f942-fab2-4e0d-a271-ca19fb6f6610",
   "metadata": {
    "tags": []
   },
   "outputs": [
    {
     "data": {
      "image/png": "[encoded data removed]",
      "text/plain": [
       "<Figure size 640x480 with 2 Axes>"
      ]
     },
     "metadata": {},
     "output_type": "display_data"
    }
   ],
   "source": [
    "plot_confusion_matrix(y_test, y_pred2,\"KNN Model\",['Rice', 'Non Rice'])"
   ]
  },
  {
   "cell_type": "markdown",
   "id": "a770ffbb-0265-4c11-aea0-57224c8220ab",
   "metadata": {},
   "source": [
    "# XGBOOST"
   ]
  },
  {
   "cell_type": "code",
   "execution_count": 32,
   "id": "71d48ca8-2464-4b6e-9b95-b2d67f8eaa7c",
   "metadata": {
    "tags": []
   },
   "outputs": [],
   "source": [
    "#Hyperparater Optimization\n",
    "params={\n",
    " \"learning_rate\"    : [0.05, 0.10, 0.15, 0.20, 0.25, 0.30 ] ,\n",
    " \"max_depth\"        : [ 3, 4, 5, 6, 8, 10, 12, 15],\n",
    " \"min_child_weight\" : [ 1, 3, 5, 7 ],\n",
    " \"gamma\"            : [ 0.0, 0.1, 0.2 , 0.3, 0.4 ],\n",
    " \"colsample_bytree\" : [ 0.3, 0.4, 0.5 , 0.7 ]   \n",
    "}"
   ]
  },
  {
   "cell_type": "code",
   "execution_count": 33,
   "id": "3c8b78fc-66c3-4336-a016-2e74c97f630f",
   "metadata": {
    "tags": []
   },
   "outputs": [],
   "source": [
    "model_3 = xgb.XGBClassifier()"
   ]
  },
  {
   "cell_type": "code",
   "execution_count": 34,
   "id": "dbed4606-7214-4c8b-b901-888058ec970f",
   "metadata": {
    "tags": []
   },
   "outputs": [],
   "source": [
    "grid_search = GridSearchCV(estimator=model_3, param_grid=params, scoring='f1',n_jobs=-1,cv=5,verbose=1)\n"
   ]
  },
  {
   "cell_type": "code",
   "execution_count": 35,
   "id": "5cfe9005-db35-40e4-9087-f6b059e25b7b",
   "metadata": {
    "tags": []
   },
   "outputs": [
    {
     "name": "stdout",
     "output_type": "stream",
     "text": [
      "Fitting 5 folds for each of 3840 candidates, totalling 19200 fits\n"
     ]
    },
    {
     "data": {
      "text/html": [
       "<style>#sk-container-id-3 {color: black;background-color: white;}#sk-container-id-3 pre{padding: 0;}#sk-container-id-3 div.sk-toggleable {background-color: white;}#sk-container-id-3 label.sk-toggleable__label {cursor: pointer;display: block;width: 100%;margin-bottom: 0;padding: 0.3em;box-sizing: border-box;text-align: center;}#sk-container-id-3 label.sk-toggleable__label-arrow:before {content: \"▸\";float: left;margin-right: 0.25em;color: #696969;}#sk-container-id-3 label.sk-toggleable__label-arrow:hover:before {color: black;}#sk-container-id-3 div.sk-estimator:hover label.sk-toggleable__label-arrow:before {color: black;}#sk-container-id-3 div.sk-toggleable__content {max-height: 0;max-width: 0;overflow: hidden;text-align: left;background-color: #f0f8ff;}#sk-container-id-3 div.sk-toggleable__content pre {margin: 0.2em;color: black;border-radius: 0.25em;background-color: #f0f8ff;}#sk-container-id-3 input.sk-toggleable__control:checked~div.sk-toggleable__content {max-height: 200px;max-width: 100%;overflow: auto;}#sk-container-id-3 input.sk-toggleable__control:checked~label.sk-toggleable__label-arrow:before {content: \"▾\";}#sk-container-id-3 div.sk-estimator input.sk-toggleable__control:checked~label.sk-toggleable__label {background-color: #d4ebff;}#sk-container-id-3 div.sk-label input.sk-toggleable__control:checked~label.sk-toggleable__label {background-color: #d4ebff;}#sk-container-id-3 input.sk-hidden--visually {border: 0;clip: rect(1px 1px 1px 1px);clip: rect(1px, 1px, 1px, 1px);height: 1px;margin: -1px;overflow: hidden;padding: 0;position: absolute;width: 1px;}#sk-container-id-3 div.sk-estimator {font-family: monospace;background-color: #f0f8ff;border: 1px dotted black;border-radius: 0.25em;box-sizing: border-box;margin-bottom: 0.5em;}#sk-container-id-3 div.sk-estimator:hover {background-color: #d4ebff;}#sk-container-id-3 div.sk-parallel-item::after {content: \"\";width: 100%;border-bottom: 1px solid gray;flex-grow: 1;}#sk-container-id-3 div.sk-label:hover label.sk-toggleable__label {background-color: #d4ebff;}#sk-container-id-3 div.sk-serial::before {content: \"\";position: absolute;border-left: 1px solid gray;box-sizing: border-box;top: 0;bottom: 0;left: 50%;z-index: 0;}#sk-container-id-3 div.sk-serial {display: flex;flex-direction: column;align-items: center;background-color: white;padding-right: 0.2em;padding-left: 0.2em;position: relative;}#sk-container-id-3 div.sk-item {position: relative;z-index: 1;}#sk-container-id-3 div.sk-parallel {display: flex;align-items: stretch;justify-content: center;background-color: white;position: relative;}#sk-container-id-3 div.sk-item::before, #sk-container-id-3 div.sk-parallel-item::before {content: \"\";position: absolute;border-left: 1px solid gray;box-sizing: border-box;top: 0;bottom: 0;left: 50%;z-index: -1;}#sk-container-id-3 div.sk-parallel-item {display: flex;flex-direction: column;z-index: 1;position: relative;background-color: white;}#sk-container-id-3 div.sk-parallel-item:first-child::after {align-self: flex-end;width: 50%;}#sk-container-id-3 div.sk-parallel-item:last-child::after {align-self: flex-start;width: 50%;}#sk-container-id-3 div.sk-parallel-item:only-child::after {width: 0;}#sk-container-id-3 div.sk-dashed-wrapped {border: 1px dashed gray;margin: 0 0.4em 0.5em 0.4em;box-sizing: border-box;padding-bottom: 0.4em;background-color: white;}#sk-container-id-3 div.sk-label label {font-family: monospace;font-weight: bold;display: inline-block;line-height: 1.2em;}#sk-container-id-3 div.sk-label-container {text-align: center;}#sk-container-id-3 div.sk-container {/* jupyter's `normalize.less` sets `[hidden] { display: none; }` but bootstrap.min.css set `[hidden] { display: none !important; }` so we also need the `!important` here to be able to override the default hidden behavior on the sphinx rendered scikit-learn.org. See: https://github.com/scikit-learn/scikit-learn/issues/21755 */display: inline-block !important;position: relative;}#sk-container-id-3 div.sk-text-repr-fallback {display: none;}</style><div id=\"sk-container-id-3\" class=\"sk-top-container\"><div class=\"sk-text-repr-fallback\"><pre>GridSearchCV(cv=5,\n",
       "             estimator=XGBClassifier(base_score=None, booster=None,\n",
       "                                     callbacks=None, colsample_bylevel=None,\n",
       "                                     colsample_bynode=None,\n",
       "                                     colsample_bytree=None, device=None,\n",
       "                                     early_stopping_rounds=None,\n",
       "                                     enable_categorical=False, eval_metric=None,\n",
       "                                     feature_types=None, gamma=None,\n",
       "                                     grow_policy=None, importance_type=None,\n",
       "                                     interaction_constraints=None,\n",
       "                                     learning_rate=None,...\n",
       "                                     missing=nan, monotone_constraints=None,\n",
       "                                     multi_strategy=None, n_estimators=None,\n",
       "                                     n_jobs=None, num_parallel_tree=None,\n",
       "                                     random_state=None, ...),\n",
       "             n_jobs=-1,\n",
       "             param_grid={&#x27;colsample_bytree&#x27;: [0.3, 0.4, 0.5, 0.7],\n",
       "                         &#x27;gamma&#x27;: [0.0, 0.1, 0.2, 0.3, 0.4],\n",
       "                         &#x27;learning_rate&#x27;: [0.05, 0.1, 0.15, 0.2, 0.25, 0.3],\n",
       "                         &#x27;max_depth&#x27;: [3, 4, 5, 6, 8, 10, 12, 15],\n",
       "                         &#x27;min_child_weight&#x27;: [1, 3, 5, 7]},\n",
       "             scoring=&#x27;f1&#x27;, verbose=1)</pre><b>In a Jupyter environment, please rerun this cell to show the HTML representation or trust the notebook. <br />On GitHub, the HTML representation is unable to render, please try loading this page with nbviewer.org.</b></div><div class=\"sk-container\" hidden><div class=\"sk-item sk-dashed-wrapped\"><div class=\"sk-label-container\"><div class=\"sk-label sk-toggleable\"><input class=\"sk-toggleable__control sk-hidden--visually\" id=\"sk-estimator-id-3\" type=\"checkbox\" ><label for=\"sk-estimator-id-3\" class=\"sk-toggleable__label sk-toggleable__label-arrow\">GridSearchCV</label><div class=\"sk-toggleable__content\"><pre>GridSearchCV(cv=5,\n",
       "             estimator=XGBClassifier(base_score=None, booster=None,\n",
       "                                     callbacks=None, colsample_bylevel=None,\n",
       "                                     colsample_bynode=None,\n",
       "                                     colsample_bytree=None, device=None,\n",
       "                                     early_stopping_rounds=None,\n",
       "                                     enable_categorical=False, eval_metric=None,\n",
       "                                     feature_types=None, gamma=None,\n",
       "                                     grow_policy=None, importance_type=None,\n",
       "                                     interaction_constraints=None,\n",
       "                                     learning_rate=None,...\n",
       "                                     missing=nan, monotone_constraints=None,\n",
       "                                     multi_strategy=None, n_estimators=None,\n",
       "                                     n_jobs=None, num_parallel_tree=None,\n",
       "                                     random_state=None, ...),\n",
       "             n_jobs=-1,\n",
       "             param_grid={&#x27;colsample_bytree&#x27;: [0.3, 0.4, 0.5, 0.7],\n",
       "                         &#x27;gamma&#x27;: [0.0, 0.1, 0.2, 0.3, 0.4],\n",
       "                         &#x27;learning_rate&#x27;: [0.05, 0.1, 0.15, 0.2, 0.25, 0.3],\n",
       "                         &#x27;max_depth&#x27;: [3, 4, 5, 6, 8, 10, 12, 15],\n",
       "                         &#x27;min_child_weight&#x27;: [1, 3, 5, 7]},\n",
       "             scoring=&#x27;f1&#x27;, verbose=1)</pre></div></div></div><div class=\"sk-parallel\"><div class=\"sk-parallel-item\"><div class=\"sk-item\"><div class=\"sk-label-container\"><div class=\"sk-label sk-toggleable\"><input class=\"sk-toggleable__control sk-hidden--visually\" id=\"sk-estimator-id-4\" type=\"checkbox\" ><label for=\"sk-estimator-id-4\" class=\"sk-toggleable__label sk-toggleable__label-arrow\">estimator: XGBClassifier</label><div class=\"sk-toggleable__content\"><pre>XGBClassifier(base_score=None, booster=None, callbacks=None,\n",
       "              colsample_bylevel=None, colsample_bynode=None,\n",
       "              colsample_bytree=None, device=None, early_stopping_rounds=None,\n",
       "              enable_categorical=False, eval_metric=None, feature_types=None,\n",
       "              gamma=None, grow_policy=None, importance_type=None,\n",
       "              interaction_constraints=None, learning_rate=None, max_bin=None,\n",
       "              max_cat_threshold=None, max_cat_to_onehot=None,\n",
       "              max_delta_step=None, max_depth=None, max_leaves=None,\n",
       "              min_child_weight=None, missing=nan, monotone_constraints=None,\n",
       "              multi_strategy=None, n_estimators=None, n_jobs=None,\n",
       "              num_parallel_tree=None, random_state=None, ...)</pre></div></div></div><div class=\"sk-serial\"><div class=\"sk-item\"><div class=\"sk-estimator sk-toggleable\"><input class=\"sk-toggleable__control sk-hidden--visually\" id=\"sk-estimator-id-5\" type=\"checkbox\" ><label for=\"sk-estimator-id-5\" class=\"sk-toggleable__label sk-toggleable__label-arrow\">XGBClassifier</label><div class=\"sk-toggleable__content\"><pre>XGBClassifier(base_score=None, booster=None, callbacks=None,\n",
       "              colsample_bylevel=None, colsample_bynode=None,\n",
       "              colsample_bytree=None, device=None, early_stopping_rounds=None,\n",
       "              enable_categorical=False, eval_metric=None, feature_types=None,\n",
       "              gamma=None, grow_policy=None, importance_type=None,\n",
       "              interaction_constraints=None, learning_rate=None, max_bin=None,\n",
       "              max_cat_threshold=None, max_cat_to_onehot=None,\n",
       "              max_delta_step=None, max_depth=None, max_leaves=None,\n",
       "              min_child_weight=None, missing=nan, monotone_constraints=None,\n",
       "              multi_strategy=None, n_estimators=None, n_jobs=None,\n",
       "              num_parallel_tree=None, random_state=None, ...)</pre></div></div></div></div></div></div></div></div></div></div>"
      ],
      "text/plain": [
       "GridSearchCV(cv=5,\n",
       "             estimator=XGBClassifier(base_score=None, booster=None,\n",
       "                                     callbacks=None, colsample_bylevel=None,\n",
       "                                     colsample_bynode=None,\n",
       "                                     colsample_bytree=None, device=None,\n",
       "                                     early_stopping_rounds=None,\n",
       "                                     enable_categorical=False, eval_metric=None,\n",
       "                                     feature_types=None, gamma=None,\n",
       "                                     grow_policy=None, importance_type=None,\n",
       "                                     interaction_constraints=None,\n",
       "                                     learning_rate=None,...\n",
       "                                     missing=nan, monotone_constraints=None,\n",
       "                                     multi_strategy=None, n_estimators=None,\n",
       "                                     n_jobs=None, num_parallel_tree=None,\n",
       "                                     random_state=None, ...),\n",
       "             n_jobs=-1,\n",
       "             param_grid={'colsample_bytree': [0.3, 0.4, 0.5, 0.7],\n",
       "                         'gamma': [0.0, 0.1, 0.2, 0.3, 0.4],\n",
       "                         'learning_rate': [0.05, 0.1, 0.15, 0.2, 0.25, 0.3],\n",
       "                         'max_depth': [3, 4, 5, 6, 8, 10, 12, 15],\n",
       "                         'min_child_weight': [1, 3, 5, 7]},\n",
       "             scoring='f1', verbose=1)"
      ]
     },
     "execution_count": 35,
     "metadata": {},
     "output_type": "execute_result"
    }
   ],
   "source": [
    "grid_search.fit(X_train, y_train)"
   ]
  },
  {
   "cell_type": "code",
   "execution_count": 37,
   "id": "e04853c9-4842-441b-83c3-fe897f4dce7b",
   "metadata": {
    "tags": []
   },
   "outputs": [],
   "source": [
    "best_params = grid_search.best_params_"
   ]
  },
  {
   "cell_type": "code",
   "execution_count": 38,
   "id": "89208f17-76d3-4792-82a3-609c73e30d11",
   "metadata": {
    "tags": []
   },
   "outputs": [],
   "source": [
    "best_model = grid_search.best_estimator_"
   ]
  },
  {
   "cell_type": "code",
   "execution_count": 39,
   "id": "bc801a8a-b8ab-4118-85d5-3a1c84211254",
   "metadata": {
    "tags": []
   },
   "outputs": [
    {
     "data": {
      "text/plain": [
       "{'colsample_bytree': 0.3,\n",
       " 'gamma': 0.4,\n",
       " 'learning_rate': 0.3,\n",
       " 'max_depth': 3,\n",
       " 'min_child_weight': 1}"
      ]
     },
     "execution_count": 39,
     "metadata": {},
     "output_type": "execute_result"
    }
   ],
   "source": [
    "best_params"
   ]
  },
  {
   "cell_type": "code",
   "execution_count": 40,
   "id": "670f69f8-08e6-46dc-8444-f179ca2d2740",
   "metadata": {
    "tags": []
   },
   "outputs": [
    {
     "data": {
      "text/html": [
       "<style>#sk-container-id-4 {color: black;background-color: white;}#sk-container-id-4 pre{padding: 0;}#sk-container-id-4 div.sk-toggleable {background-color: white;}#sk-container-id-4 label.sk-toggleable__label {cursor: pointer;display: block;width: 100%;margin-bottom: 0;padding: 0.3em;box-sizing: border-box;text-align: center;}#sk-container-id-4 label.sk-toggleable__label-arrow:before {content: \"▸\";float: left;margin-right: 0.25em;color: #696969;}#sk-container-id-4 label.sk-toggleable__label-arrow:hover:before {color: black;}#sk-container-id-4 div.sk-estimator:hover label.sk-toggleable__label-arrow:before {color: black;}#sk-container-id-4 div.sk-toggleable__content {max-height: 0;max-width: 0;overflow: hidden;text-align: left;background-color: #f0f8ff;}#sk-container-id-4 div.sk-toggleable__content pre {margin: 0.2em;color: black;border-radius: 0.25em;background-color: #f0f8ff;}#sk-container-id-4 input.sk-toggleable__control:checked~div.sk-toggleable__content {max-height: 200px;max-width: 100%;overflow: auto;}#sk-container-id-4 input.sk-toggleable__control:checked~label.sk-toggleable__label-arrow:before {content: \"▾\";}#sk-container-id-4 div.sk-estimator input.sk-toggleable__control:checked~label.sk-toggleable__label {background-color: #d4ebff;}#sk-container-id-4 div.sk-label input.sk-toggleable__control:checked~label.sk-toggleable__label {background-color: #d4ebff;}#sk-container-id-4 input.sk-hidden--visually {border: 0;clip: rect(1px 1px 1px 1px);clip: rect(1px, 1px, 1px, 1px);height: 1px;margin: -1px;overflow: hidden;padding: 0;position: absolute;width: 1px;}#sk-container-id-4 div.sk-estimator {font-family: monospace;background-color: #f0f8ff;border: 1px dotted black;border-radius: 0.25em;box-sizing: border-box;margin-bottom: 0.5em;}#sk-container-id-4 div.sk-estimator:hover {background-color: #d4ebff;}#sk-container-id-4 div.sk-parallel-item::after {content: \"\";width: 100%;border-bottom: 1px solid gray;flex-grow: 1;}#sk-container-id-4 div.sk-label:hover label.sk-toggleable__label {background-color: #d4ebff;}#sk-container-id-4 div.sk-serial::before {content: \"\";position: absolute;border-left: 1px solid gray;box-sizing: border-box;top: 0;bottom: 0;left: 50%;z-index: 0;}#sk-container-id-4 div.sk-serial {display: flex;flex-direction: column;align-items: center;background-color: white;padding-right: 0.2em;padding-left: 0.2em;position: relative;}#sk-container-id-4 div.sk-item {position: relative;z-index: 1;}#sk-container-id-4 div.sk-parallel {display: flex;align-items: stretch;justify-content: center;background-color: white;position: relative;}#sk-container-id-4 div.sk-item::before, #sk-container-id-4 div.sk-parallel-item::before {content: \"\";position: absolute;border-left: 1px solid gray;box-sizing: border-box;top: 0;bottom: 0;left: 50%;z-index: -1;}#sk-container-id-4 div.sk-parallel-item {display: flex;flex-direction: column;z-index: 1;position: relative;background-color: white;}#sk-container-id-4 div.sk-parallel-item:first-child::after {align-self: flex-end;width: 50%;}#sk-container-id-4 div.sk-parallel-item:last-child::after {align-self: flex-start;width: 50%;}#sk-container-id-4 div.sk-parallel-item:only-child::after {width: 0;}#sk-container-id-4 div.sk-dashed-wrapped {border: 1px dashed gray;margin: 0 0.4em 0.5em 0.4em;box-sizing: border-box;padding-bottom: 0.4em;background-color: white;}#sk-container-id-4 div.sk-label label {font-family: monospace;font-weight: bold;display: inline-block;line-height: 1.2em;}#sk-container-id-4 div.sk-label-container {text-align: center;}#sk-container-id-4 div.sk-container {/* jupyter's `normalize.less` sets `[hidden] { display: none; }` but bootstrap.min.css set `[hidden] { display: none !important; }` so we also need the `!important` here to be able to override the default hidden behavior on the sphinx rendered scikit-learn.org. See: https://github.com/scikit-learn/scikit-learn/issues/21755 */display: inline-block !important;position: relative;}#sk-container-id-4 div.sk-text-repr-fallback {display: none;}</style><div id=\"sk-container-id-4\" class=\"sk-top-container\"><div class=\"sk-text-repr-fallback\"><pre>XGBClassifier(base_score=None, booster=None, callbacks=None,\n",
       "              colsample_bylevel=None, colsample_bynode=None,\n",
       "              colsample_bytree=0.3, device=None, early_stopping_rounds=None,\n",
       "              enable_categorical=False, eval_metric=None, feature_types=None,\n",
       "              gamma=0.4, grow_policy=None, importance_type=None,\n",
       "              interaction_constraints=None, learning_rate=0.3, max_bin=None,\n",
       "              max_cat_threshold=None, max_cat_to_onehot=None,\n",
       "              max_delta_step=None, max_depth=3, max_leaves=None,\n",
       "              min_child_weight=1, missing=nan, monotone_constraints=None,\n",
       "              multi_strategy=None, n_estimators=None, n_jobs=None,\n",
       "              num_parallel_tree=None, random_state=None, ...)</pre><b>In a Jupyter environment, please rerun this cell to show the HTML representation or trust the notebook. <br />On GitHub, the HTML representation is unable to render, please try loading this page with nbviewer.org.</b></div><div class=\"sk-container\" hidden><div class=\"sk-item\"><div class=\"sk-estimator sk-toggleable\"><input class=\"sk-toggleable__control sk-hidden--visually\" id=\"sk-estimator-id-6\" type=\"checkbox\" checked><label for=\"sk-estimator-id-6\" class=\"sk-toggleable__label sk-toggleable__label-arrow\">XGBClassifier</label><div class=\"sk-toggleable__content\"><pre>XGBClassifier(base_score=None, booster=None, callbacks=None,\n",
       "              colsample_bylevel=None, colsample_bynode=None,\n",
       "              colsample_bytree=0.3, device=None, early_stopping_rounds=None,\n",
       "              enable_categorical=False, eval_metric=None, feature_types=None,\n",
       "              gamma=0.4, grow_policy=None, importance_type=None,\n",
       "              interaction_constraints=None, learning_rate=0.3, max_bin=None,\n",
       "              max_cat_threshold=None, max_cat_to_onehot=None,\n",
       "              max_delta_step=None, max_depth=3, max_leaves=None,\n",
       "              min_child_weight=1, missing=nan, monotone_constraints=None,\n",
       "              multi_strategy=None, n_estimators=None, n_jobs=None,\n",
       "              num_parallel_tree=None, random_state=None, ...)</pre></div></div></div></div></div>"
      ],
      "text/plain": [
       "XGBClassifier(base_score=None, booster=None, callbacks=None,\n",
       "              colsample_bylevel=None, colsample_bynode=None,\n",
       "              colsample_bytree=0.3, device=None, early_stopping_rounds=None,\n",
       "              enable_categorical=False, eval_metric=None, feature_types=None,\n",
       "              gamma=0.4, grow_policy=None, importance_type=None,\n",
       "              interaction_constraints=None, learning_rate=0.3, max_bin=None,\n",
       "              max_cat_threshold=None, max_cat_to_onehot=None,\n",
       "              max_delta_step=None, max_depth=3, max_leaves=None,\n",
       "              min_child_weight=1, missing=nan, monotone_constraints=None,\n",
       "              multi_strategy=None, n_estimators=None, n_jobs=None,\n",
       "              num_parallel_tree=None, random_state=None, ...)"
      ]
     },
     "execution_count": 40,
     "metadata": {},
     "output_type": "execute_result"
    }
   ],
   "source": [
    "best_model"
   ]
  },
  {
   "cell_type": "code",
   "execution_count": 41,
   "id": "561b7156-ca5f-4efc-815c-f0dde88df497",
   "metadata": {
    "tags": []
   },
   "outputs": [],
   "source": [
    "y_pred4=best_model.predict(X_test)"
   ]
  },
  {
   "cell_type": "code",
   "execution_count": 42,
   "id": "7c1cd45b-0ec3-48a5-bb43-0445c8169eb3",
   "metadata": {
    "tags": []
   },
   "outputs": [
    {
     "name": "stdout",
     "output_type": "stream",
     "text": [
      "Accuracy 98.89%\n",
      "              precision    recall  f1-score   support\n",
      "\n",
      "           0       0.99      0.99      0.99        90\n",
      "           1       0.99      0.99      0.99        90\n",
      "\n",
      "    accuracy                           0.99       180\n",
      "   macro avg       0.99      0.99      0.99       180\n",
      "weighted avg       0.99      0.99      0.99       180\n",
      "\n"
     ]
    }
   ],
   "source": [
    "print(\"Accuracy {0:.2f}%\".format(100*accuracy_score(y_test,y_pred4)))\n",
    "print(classification_report(y_test, y_pred4))"
   ]
  },
  {
   "cell_type": "code",
   "execution_count": 43,
   "id": "b85298ee-49e3-4c79-830e-b3a44d2056d8",
   "metadata": {
    "tags": []
   },
   "outputs": [
    {
     "data": {
      "image/png": "[encoded data removed]",
      "text/plain": [
       "<Figure size 640x480 with 2 Axes>"
      ]
     },
     "metadata": {},
     "output_type": "display_data"
    }
   ],
   "source": [
    "plot_confusion_matrix(y_test, y_pred4,\"XGBoost model \",['Rice', 'Non Rice'])"
   ]
  },
  {
   "cell_type": "markdown",
   "id": "5c608a09-3982-4abd-9e90-57095ac10296",
   "metadata": {},
   "source": [
    " # SUBMISSION "
   ]
  },
  {
   "cell_type": "code",
   "execution_count": 44,
   "id": "c312f3e4-2584-4348-a504-11d243a2e3e0",
   "metadata": {
    "tags": []
   },
   "outputs": [
    {
     "data": {
      "text/html": [
       "<div>\n",
       "<style scoped>\n",
       "    .dataframe tbody tr th:only-of-type {\n",
       "        vertical-align: middle;\n",
       "    }\n",
       "\n",
       "    .dataframe tbody tr th {\n",
       "        vertical-align: top;\n",
       "    }\n",
       "\n",
       "    .dataframe thead th {\n",
       "        text-align: right;\n",
       "    }\n",
       "</style>\n",
       "<table border=\"1\" class=\"dataframe\">\n",
       "  <thead>\n",
       "    <tr style=\"text-align: right;\">\n",
       "      <th></th>\n",
       "      <th>Latitude and Longitude</th>\n",
       "    </tr>\n",
       "  </thead>\n",
       "  <tbody>\n",
       "    <tr>\n",
       "      <th>0</th>\n",
       "      <td>(10.18019073690894, 105.32022315786804)</td>\n",
       "    </tr>\n",
       "    <tr>\n",
       "      <th>1</th>\n",
       "      <td>(10.561107033461816, 105.12772097986661)</td>\n",
       "    </tr>\n",
       "    <tr>\n",
       "      <th>2</th>\n",
       "      <td>(10.623790611954897, 105.13771401411867)</td>\n",
       "    </tr>\n",
       "    <tr>\n",
       "      <th>3</th>\n",
       "      <td>(10.583364246115156, 105.23946127195805)</td>\n",
       "    </tr>\n",
       "    <tr>\n",
       "      <th>4</th>\n",
       "      <td>(10.20744446668854, 105.26844107128906)</td>\n",
       "    </tr>\n",
       "    <tr>\n",
       "      <th>...</th>\n",
       "      <td>...</td>\n",
       "    </tr>\n",
       "    <tr>\n",
       "      <th>245</th>\n",
       "      <td>(10.308283266873062, 105.50872812216863)</td>\n",
       "    </tr>\n",
       "    <tr>\n",
       "      <th>246</th>\n",
       "      <td>(10.582910017285496, 105.23991550078767)</td>\n",
       "    </tr>\n",
       "    <tr>\n",
       "      <th>247</th>\n",
       "      <td>(10.581547330796518, 105.23991550078767)</td>\n",
       "    </tr>\n",
       "    <tr>\n",
       "      <th>248</th>\n",
       "      <td>(10.629241357910818, 105.15315779432643)</td>\n",
       "    </tr>\n",
       "    <tr>\n",
       "      <th>249</th>\n",
       "      <td>(10.574733898351617, 105.10410108072531)</td>\n",
       "    </tr>\n",
       "  </tbody>\n",
       "</table>\n",
       "<p>250 rows × 1 columns</p>\n",
       "</div>"
      ],
      "text/plain": [
       "                       Latitude and Longitude\n",
       "0     (10.18019073690894, 105.32022315786804)\n",
       "1    (10.561107033461816, 105.12772097986661)\n",
       "2    (10.623790611954897, 105.13771401411867)\n",
       "3    (10.583364246115156, 105.23946127195805)\n",
       "4     (10.20744446668854, 105.26844107128906)\n",
       "..                                        ...\n",
       "245  (10.308283266873062, 105.50872812216863)\n",
       "246  (10.582910017285496, 105.23991550078767)\n",
       "247  (10.581547330796518, 105.23991550078767)\n",
       "248  (10.629241357910818, 105.15315779432643)\n",
       "249  (10.574733898351617, 105.10410108072531)\n",
       "\n",
       "[250 rows x 1 columns]"
      ]
     },
     "execution_count": 44,
     "metadata": {},
     "output_type": "execute_result"
    }
   ],
   "source": [
    "# Showing submission file\n",
    "submission_data = pd.read_csv(\"submission.csv\")\n",
    "submission_data"
   ]
  },
  {
   "cell_type": "code",
   "execution_count": 45,
   "id": "ce289ab5-6b3b-4f8a-9363-c247ff4595e0",
   "metadata": {},
   "outputs": [],
   "source": [
    "#vegetative\n",
    "indices_vegetative=pd.read_csv(\"vegetative_test.csv\")\n",
    "ndvi_vegetative=indices_vegetative[['NDVI']]\n",
    "ndvi_vegetative.columns =['NDVI_veg']\n",
    "\n",
    "evi_vegetative=indices_vegetative[['EVI']]\n",
    "evi_vegetative.columns =['EVI_veg']\n",
    "\n",
    "rgvi_vegetative=indices_vegetative[['RGVI']]\n",
    "rgvi_vegetative.columns =['RGVI_veg']\n",
    "\n",
    "ndbi_vegetative = indices_vegetative[['NDBI']]\n",
    "ndbi_vegetative.columns = ['NDBI_veg']\n",
    "\n",
    "dvi_vegetative = indices_vegetative[['DVI']]\n",
    "dvi_vegetative.columns = ['DVI_veg']\n",
    "\n",
    "ipvi_vegetative = indices_vegetative[['IPVI']]\n",
    "ipvi_vegetative.columns = ['IPVI_veg']\n",
    "\n",
    "msavi_vegetative = indices_vegetative[['MSAVI']]\n",
    "msavi_vegetative.columns = ['MSAVI_veg']\n",
    "\n",
    "ndwi_vegetative = indices_vegetative[['NDWI']]\n",
    "ndwi_vegetative.columns = ['NDWI_veg']\n",
    "\n",
    "\n",
    "#vegetative_2\n",
    "indices_vegetative_2=pd.read_csv(\"vegetative_2_test.csv\")\n",
    "ndvi_vegetative_2=indices_vegetative_2[['NDVI']]\n",
    "ndvi_vegetative_2.columns =['NDVI_veg2']\n",
    "\n",
    "evi_vegetative_2=indices_vegetative_2[['EVI']]\n",
    "evi_vegetative_2.columns =['EVI_veg2']\n",
    "\n",
    "rgvi_vegetative_2=indices_vegetative_2[['RGVI']]\n",
    "rgvi_vegetative_2.columns =['RGVI_veg2']\n",
    "\n",
    "ndbi_vegetative_2 = indices_vegetative_2[['NDBI']]\n",
    "ndbi_vegetative_2.columns = ['NDBI_veg2']\n",
    "\n",
    "dvi_vegetative_2 = indices_vegetative_2[['DVI']]\n",
    "dvi_vegetative_2.columns = ['DVI_veg2']\n",
    "\n",
    "ipvi_vegetative_2 = indices_vegetative_2[['IPVI']]\n",
    "ipvi_vegetative_2.columns = ['IPVI_veg2']\n",
    "\n",
    "msavi_vegetative_2 = indices_vegetative_2[['MSAVI']]\n",
    "msavi_vegetative_2.columns = ['MSAVI_veg2']\n",
    "\n",
    "ndwi_vegetative_2 = indices_vegetative_2[['NDWI']]\n",
    "ndwi_vegetative_2.columns = ['NDWI_veg2']\n"
   ]
  },
  {
   "cell_type": "code",
   "execution_count": 46,
   "id": "84c33737-56e2-493b-b515-93d6184ee711",
   "metadata": {},
   "outputs": [],
   "source": [
    "#reproductive\n",
    "indices_reproductive=pd.read_csv(\"reproductive_test.csv\")\n",
    "ndvi_reproductive=indices_reproductive[['NDVI']]\n",
    "ndvi_reproductive.columns =['NDVI_rep']\n",
    "\n",
    "evi_reproductive=indices_reproductive[['EVI']]\n",
    "evi_reproductive.columns =['EVI_rep']\n",
    "\n",
    "rgvi_reproductive=indices_reproductive[['RGVI']]\n",
    "rgvi_reproductive.columns =['RGVI_rep']\n",
    "\n",
    "ndbi_reproductive = indices_vegetative[['NDBI']]\n",
    "ndbi_reproductive.columns = ['NDBI_rep']\n",
    "\n",
    "dvi_reproductive = indices_vegetative[['DVI']]\n",
    "dvi_reproductive.columns = ['DVI_rep']\n",
    "\n",
    "ipvi_reproductive = indices_vegetative[['IPVI']]\n",
    "ipvi_reproductive.columns = ['IPVI_rep']\n",
    "\n",
    "msavi_reproductive = indices_vegetative[['MSAVI']]\n",
    "msavi_reproductive.columns = ['MSAVI_rep']\n",
    "\n",
    "ndwi_reproductive = indices_vegetative[['NDWI']]\n",
    "ndwi_reproductive.columns = ['NDWI_rep']\n",
    "\n",
    "# reproductive_2\n",
    "indices_reproductive_2=pd.read_csv(\"reproductive_2_test.csv\")\n",
    "ndvi_reproductive_2=indices_reproductive_2[['NDVI']]\n",
    "ndvi_reproductive_2.columns =['NDVI_rep2']\n",
    "\n",
    "evi_reproductive_2=indices_reproductive_2[['EVI']]\n",
    "evi_reproductive_2.columns =['EVI_rep2']\n",
    "\n",
    "rgvi_reproductive_2=indices_reproductive_2[['RGVI']]\n",
    "rgvi_reproductive_2.columns =['RGVI_rep2']\n",
    "\n",
    "ndbi_reproductive_2 = indices_vegetative[['NDBI']]\n",
    "ndbi_reproductive_2.columns = ['NDBI_rep2']\n",
    "\n",
    "dvi_reproductive_2 = indices_vegetative[['DVI']]\n",
    "dvi_reproductive_2.columns = ['DVI_rep2']\n",
    "\n",
    "ipvi_reproductive_2 = indices_vegetative[['IPVI']]\n",
    "ipvi_reproductive_2.columns = ['IPVI_rep2']\n",
    "\n",
    "msavi_reproductive_2 = indices_vegetative[['MSAVI']]\n",
    "msavi_reproductive_2.columns = ['MSAVI_rep2']\n",
    "\n",
    "ndwi_reproductive_2 = indices_vegetative[['NDWI']]\n",
    "ndwi_reproductive_2.columns = ['NDWI_rep2']\n",
    "\n"
   ]
  },
  {
   "cell_type": "code",
   "execution_count": 47,
   "id": "34d4b410-4743-47e7-8424-9c22c60e620e",
   "metadata": {},
   "outputs": [],
   "source": [
    "# ripening\n",
    "indices_ripening = pd.read_csv(\"ripening_test.csv\")\n",
    "ndvi_ripening = indices_ripening[['NDVI']]\n",
    "ndvi_ripening.columns = ['NDVI_rip']\n",
    "\n",
    "evi_ripening = indices_ripening[['EVI']]\n",
    "evi_ripening.columns = ['EVI_rip']\n",
    "\n",
    "rgvi_ripening = indices_ripening[['RGVI']]\n",
    "rgvi_ripening.columns = ['RGVI_rip']\n",
    "\n",
    "ndbi_ripening = indices_vegetative[['NDBI']]\n",
    "ndbi_ripening.columns = ['NDBI_rip']\n",
    "\n",
    "dvi_ripening = indices_vegetative[['DVI']]\n",
    "dvi_ripening.columns = ['DVI_rip']\n",
    "\n",
    "ipvi_ripening = indices_vegetative[['IPVI']]\n",
    "ipvi_ripening.columns = ['IPVI_rip']\n",
    "\n",
    "msavi_ripening = indices_vegetative[['MSAVI']]\n",
    "msavi_ripening.columns = ['MSAVI_rip']\n",
    "\n",
    "ndwi_ripening = indices_vegetative[['NDWI']]\n",
    "ndwi_ripening.columns = ['NDWI_rip']\n",
    "\n",
    "# ripening_2\n",
    "indices_ripening_2 = pd.read_csv(\"ripening_2_test.csv\")\n",
    "ndvi_ripening_2 = indices_ripening_2[['NDVI']]\n",
    "ndvi_ripening_2.columns = ['NDVI_rip2']\n",
    "\n",
    "evi_ripening_2 = indices_ripening_2[['EVI']]\n",
    "evi_ripening_2.columns = ['EVI_rip2']\n",
    "\n",
    "rgvi_ripening_2 = indices_ripening_2[['RGVI']]\n",
    "rgvi_ripening_2.columns = ['RGVI_rip2']\n",
    "\n",
    "ndbi_ripening_2 = indices_vegetative_2[['NDBI']]\n",
    "ndbi_ripening_2.columns = ['NDBI_rip2']\n",
    "\n",
    "dvi_ripening_2 = indices_vegetative_2[['DVI']]\n",
    "dvi_ripening_2.columns = ['DVI_rip2']\n",
    "\n",
    "ipvi_ripening_2 = indices_vegetative_2[['IPVI']]\n",
    "ipvi_ripening_2.columns = ['IPVI_rip2']\n",
    "\n",
    "msavi_ripening_2 = indices_vegetative_2[['MSAVI']]\n",
    "msavi_ripening_2.columns = ['MSAVI_rip2']\n",
    "\n",
    "ndwi_ripening_2 = indices_ripening_2[['NDWI']]\n",
    "ndwi_ripening_2.columns = ['NDWI_rip2']\n"
   ]
  },
  {
   "cell_type": "code",
   "execution_count": 48,
   "id": "68d8913a-3f26-4e48-bfd6-c85a0907a3ec",
   "metadata": {},
   "outputs": [],
   "source": [
    "crop_data=pd.concat([ndvi_vegetative,evi_vegetative,rgvi_vegetative,ndbi_vegetative, dvi_vegetative, ipvi_vegetative, msavi_vegetative, ndwi_vegetative, ndvi_vegetative_2,evi_vegetative_2,rgvi_vegetative_2,ndbi_vegetative_2, dvi_vegetative_2, ipvi_vegetative_2, msavi_vegetative_2, ndwi_vegetative_2,ndvi_reproductive,evi_reproductive,rgvi_reproductive,ndbi_reproductive, dvi_reproductive, ipvi_reproductive, msavi_reproductive, ndwi_reproductive,ndvi_reproductive_2,evi_reproductive_2,rgvi_reproductive_2,ndbi_reproductive_2, dvi_reproductive_2, ipvi_reproductive_2, msavi_reproductive_2, ndwi_reproductive_2,ndvi_ripening,evi_ripening,rgvi_ripening,ndbi_ripening, dvi_ripening, ipvi_ripening, msavi_ripening, ndwi_ripening,ndvi_ripening_2,evi_ripening_2,rgvi_ripening_2,ndbi_ripening_2, dvi_ripening_2, ipvi_ripening_2, msavi_ripening_2, ndwi_ripening_2],axis=1) "
   ]
  },
  {
   "cell_type": "code",
   "execution_count": 49,
   "id": "deaa0a59-9b84-4b02-b428-4aff6e5501f3",
   "metadata": {
    "tags": []
   },
   "outputs": [
    {
     "data": {
      "text/html": [
       "<div>\n",
       "<style scoped>\n",
       "    .dataframe tbody tr th:only-of-type {\n",
       "        vertical-align: middle;\n",
       "    }\n",
       "\n",
       "    .dataframe tbody tr th {\n",
       "        vertical-align: top;\n",
       "    }\n",
       "\n",
       "    .dataframe thead th {\n",
       "        text-align: right;\n",
       "    }\n",
       "</style>\n",
       "<table border=\"1\" class=\"dataframe\">\n",
       "  <thead>\n",
       "    <tr style=\"text-align: right;\">\n",
       "      <th></th>\n",
       "      <th>NDVI_veg</th>\n",
       "      <th>EVI_veg</th>\n",
       "      <th>RGVI_veg</th>\n",
       "      <th>NDBI_veg</th>\n",
       "      <th>DVI_veg</th>\n",
       "      <th>IPVI_veg</th>\n",
       "      <th>MSAVI_veg</th>\n",
       "      <th>NDWI_veg</th>\n",
       "      <th>NDVI_veg2</th>\n",
       "      <th>EVI_veg2</th>\n",
       "      <th>...</th>\n",
       "      <th>MSAVI_rip</th>\n",
       "      <th>NDWI_rip</th>\n",
       "      <th>NDVI_rip2</th>\n",
       "      <th>EVI_rip2</th>\n",
       "      <th>RGVI_rip2</th>\n",
       "      <th>NDBI_rip2</th>\n",
       "      <th>DVI_rip2</th>\n",
       "      <th>IPVI_rip2</th>\n",
       "      <th>MSAVI_rip2</th>\n",
       "      <th>NDWI_rip2</th>\n",
       "    </tr>\n",
       "  </thead>\n",
       "  <tbody>\n",
       "    <tr>\n",
       "      <th>0</th>\n",
       "      <td>0.046298</td>\n",
       "      <td>0.009429</td>\n",
       "      <td>1.281762</td>\n",
       "      <td>-0.519289</td>\n",
       "      <td>137.931818</td>\n",
       "      <td>0.571065</td>\n",
       "      <td>0.530326</td>\n",
       "      <td>0.530326</td>\n",
       "      <td>0.291337</td>\n",
       "      <td>0.044007</td>\n",
       "      <td>...</td>\n",
       "      <td>0.530326</td>\n",
       "      <td>0.530326</td>\n",
       "      <td>0.185848</td>\n",
       "      <td>0.034425</td>\n",
       "      <td>1.020751</td>\n",
       "      <td>-0.184923</td>\n",
       "      <td>420.787879</td>\n",
       "      <td>0.659136</td>\n",
       "      <td>0.623904</td>\n",
       "      <td>0.626067</td>\n",
       "    </tr>\n",
       "    <tr>\n",
       "      <th>1</th>\n",
       "      <td>0.087038</td>\n",
       "      <td>0.007857</td>\n",
       "      <td>1.215765</td>\n",
       "      <td>-0.191581</td>\n",
       "      <td>118.737374</td>\n",
       "      <td>0.578373</td>\n",
       "      <td>0.527759</td>\n",
       "      <td>0.527759</td>\n",
       "      <td>0.225286</td>\n",
       "      <td>0.065821</td>\n",
       "      <td>...</td>\n",
       "      <td>0.527759</td>\n",
       "      <td>0.527759</td>\n",
       "      <td>0.250669</td>\n",
       "      <td>0.055137</td>\n",
       "      <td>1.041171</td>\n",
       "      <td>-0.088731</td>\n",
       "      <td>873.727273</td>\n",
       "      <td>0.648329</td>\n",
       "      <td>0.677760</td>\n",
       "      <td>0.671227</td>\n",
       "    </tr>\n",
       "    <tr>\n",
       "      <th>2</th>\n",
       "      <td>0.127479</td>\n",
       "      <td>0.018057</td>\n",
       "      <td>0.996374</td>\n",
       "      <td>-0.058529</td>\n",
       "      <td>167.431818</td>\n",
       "      <td>0.637477</td>\n",
       "      <td>0.545868</td>\n",
       "      <td>0.545868</td>\n",
       "      <td>0.105576</td>\n",
       "      <td>0.018313</td>\n",
       "      <td>...</td>\n",
       "      <td>0.545868</td>\n",
       "      <td>0.545868</td>\n",
       "      <td>0.250456</td>\n",
       "      <td>0.031972</td>\n",
       "      <td>1.044441</td>\n",
       "      <td>-0.067913</td>\n",
       "      <td>232.257576</td>\n",
       "      <td>0.556857</td>\n",
       "      <td>0.569698</td>\n",
       "      <td>0.595081</td>\n",
       "    </tr>\n",
       "    <tr>\n",
       "      <th>3</th>\n",
       "      <td>NaN</td>\n",
       "      <td>0.000000</td>\n",
       "      <td>NaN</td>\n",
       "      <td>NaN</td>\n",
       "      <td>0.000000</td>\n",
       "      <td>NaN</td>\n",
       "      <td>0.500000</td>\n",
       "      <td>0.500000</td>\n",
       "      <td>NaN</td>\n",
       "      <td>0.000000</td>\n",
       "      <td>...</td>\n",
       "      <td>0.500000</td>\n",
       "      <td>0.500000</td>\n",
       "      <td>NaN</td>\n",
       "      <td>0.000000</td>\n",
       "      <td>NaN</td>\n",
       "      <td>NaN</td>\n",
       "      <td>0.000000</td>\n",
       "      <td>NaN</td>\n",
       "      <td>0.500000</td>\n",
       "      <td>0.500000</td>\n",
       "    </tr>\n",
       "    <tr>\n",
       "      <th>4</th>\n",
       "      <td>0.129472</td>\n",
       "      <td>0.095887</td>\n",
       "      <td>1.239213</td>\n",
       "      <td>-0.340561</td>\n",
       "      <td>1179.545455</td>\n",
       "      <td>0.711578</td>\n",
       "      <td>0.607003</td>\n",
       "      <td>0.607003</td>\n",
       "      <td>0.571986</td>\n",
       "      <td>0.109466</td>\n",
       "      <td>...</td>\n",
       "      <td>0.607003</td>\n",
       "      <td>0.607003</td>\n",
       "      <td>0.149280</td>\n",
       "      <td>0.041596</td>\n",
       "      <td>1.004861</td>\n",
       "      <td>-0.275062</td>\n",
       "      <td>1017.959596</td>\n",
       "      <td>0.793616</td>\n",
       "      <td>0.708345</td>\n",
       "      <td>0.631151</td>\n",
       "    </tr>\n",
       "    <tr>\n",
       "      <th>...</th>\n",
       "      <td>...</td>\n",
       "      <td>...</td>\n",
       "      <td>...</td>\n",
       "      <td>...</td>\n",
       "      <td>...</td>\n",
       "      <td>...</td>\n",
       "      <td>...</td>\n",
       "      <td>...</td>\n",
       "      <td>...</td>\n",
       "      <td>...</td>\n",
       "      <td>...</td>\n",
       "      <td>...</td>\n",
       "      <td>...</td>\n",
       "      <td>...</td>\n",
       "      <td>...</td>\n",
       "      <td>...</td>\n",
       "      <td>...</td>\n",
       "      <td>...</td>\n",
       "      <td>...</td>\n",
       "      <td>...</td>\n",
       "      <td>...</td>\n",
       "    </tr>\n",
       "    <tr>\n",
       "      <th>245</th>\n",
       "      <td>NaN</td>\n",
       "      <td>0.000000</td>\n",
       "      <td>NaN</td>\n",
       "      <td>NaN</td>\n",
       "      <td>0.000000</td>\n",
       "      <td>NaN</td>\n",
       "      <td>0.500000</td>\n",
       "      <td>0.500000</td>\n",
       "      <td>NaN</td>\n",
       "      <td>0.000000</td>\n",
       "      <td>...</td>\n",
       "      <td>0.500000</td>\n",
       "      <td>0.500000</td>\n",
       "      <td>NaN</td>\n",
       "      <td>0.000000</td>\n",
       "      <td>NaN</td>\n",
       "      <td>NaN</td>\n",
       "      <td>0.000000</td>\n",
       "      <td>NaN</td>\n",
       "      <td>0.500000</td>\n",
       "      <td>0.500000</td>\n",
       "    </tr>\n",
       "    <tr>\n",
       "      <th>246</th>\n",
       "      <td>NaN</td>\n",
       "      <td>0.000000</td>\n",
       "      <td>NaN</td>\n",
       "      <td>NaN</td>\n",
       "      <td>0.000000</td>\n",
       "      <td>NaN</td>\n",
       "      <td>0.500000</td>\n",
       "      <td>0.500000</td>\n",
       "      <td>NaN</td>\n",
       "      <td>0.000000</td>\n",
       "      <td>...</td>\n",
       "      <td>0.500000</td>\n",
       "      <td>0.500000</td>\n",
       "      <td>NaN</td>\n",
       "      <td>0.000000</td>\n",
       "      <td>NaN</td>\n",
       "      <td>NaN</td>\n",
       "      <td>0.000000</td>\n",
       "      <td>NaN</td>\n",
       "      <td>0.500000</td>\n",
       "      <td>0.500000</td>\n",
       "    </tr>\n",
       "    <tr>\n",
       "      <th>247</th>\n",
       "      <td>NaN</td>\n",
       "      <td>0.000000</td>\n",
       "      <td>NaN</td>\n",
       "      <td>NaN</td>\n",
       "      <td>0.000000</td>\n",
       "      <td>NaN</td>\n",
       "      <td>0.500000</td>\n",
       "      <td>0.500000</td>\n",
       "      <td>NaN</td>\n",
       "      <td>0.000000</td>\n",
       "      <td>...</td>\n",
       "      <td>0.500000</td>\n",
       "      <td>0.500000</td>\n",
       "      <td>NaN</td>\n",
       "      <td>0.000000</td>\n",
       "      <td>NaN</td>\n",
       "      <td>NaN</td>\n",
       "      <td>0.000000</td>\n",
       "      <td>NaN</td>\n",
       "      <td>0.500000</td>\n",
       "      <td>0.500000</td>\n",
       "    </tr>\n",
       "    <tr>\n",
       "      <th>248</th>\n",
       "      <td>0.341708</td>\n",
       "      <td>0.018872</td>\n",
       "      <td>1.020441</td>\n",
       "      <td>-0.265724</td>\n",
       "      <td>185.393939</td>\n",
       "      <td>0.736255</td>\n",
       "      <td>0.529882</td>\n",
       "      <td>0.529882</td>\n",
       "      <td>0.119527</td>\n",
       "      <td>0.025695</td>\n",
       "      <td>...</td>\n",
       "      <td>0.529882</td>\n",
       "      <td>0.529882</td>\n",
       "      <td>0.220698</td>\n",
       "      <td>0.013349</td>\n",
       "      <td>1.053999</td>\n",
       "      <td>-0.091557</td>\n",
       "      <td>331.989899</td>\n",
       "      <td>0.566904</td>\n",
       "      <td>0.566036</td>\n",
       "      <td>0.537574</td>\n",
       "    </tr>\n",
       "    <tr>\n",
       "      <th>249</th>\n",
       "      <td>0.678089</td>\n",
       "      <td>0.281903</td>\n",
       "      <td>1.028301</td>\n",
       "      <td>-0.173737</td>\n",
       "      <td>839.681818</td>\n",
       "      <td>0.749976</td>\n",
       "      <td>0.765907</td>\n",
       "      <td>0.765907</td>\n",
       "      <td>0.151396</td>\n",
       "      <td>0.064194</td>\n",
       "      <td>...</td>\n",
       "      <td>0.765907</td>\n",
       "      <td>0.765907</td>\n",
       "      <td>0.366708</td>\n",
       "      <td>0.071624</td>\n",
       "      <td>1.015164</td>\n",
       "      <td>-0.071624</td>\n",
       "      <td>545.871212</td>\n",
       "      <td>0.572992</td>\n",
       "      <td>0.730944</td>\n",
       "      <td>0.686559</td>\n",
       "    </tr>\n",
       "  </tbody>\n",
       "</table>\n",
       "<p>250 rows × 48 columns</p>\n",
       "</div>"
      ],
      "text/plain": [
       "     NDVI_veg   EVI_veg  RGVI_veg  NDBI_veg      DVI_veg  IPVI_veg  MSAVI_veg  \\\n",
       "0    0.046298  0.009429  1.281762 -0.519289   137.931818  0.571065   0.530326   \n",
       "1    0.087038  0.007857  1.215765 -0.191581   118.737374  0.578373   0.527759   \n",
       "2    0.127479  0.018057  0.996374 -0.058529   167.431818  0.637477   0.545868   \n",
       "3         NaN  0.000000       NaN       NaN     0.000000       NaN   0.500000   \n",
       "4    0.129472  0.095887  1.239213 -0.340561  1179.545455  0.711578   0.607003   \n",
       "..        ...       ...       ...       ...          ...       ...        ...   \n",
       "245       NaN  0.000000       NaN       NaN     0.000000       NaN   0.500000   \n",
       "246       NaN  0.000000       NaN       NaN     0.000000       NaN   0.500000   \n",
       "247       NaN  0.000000       NaN       NaN     0.000000       NaN   0.500000   \n",
       "248  0.341708  0.018872  1.020441 -0.265724   185.393939  0.736255   0.529882   \n",
       "249  0.678089  0.281903  1.028301 -0.173737   839.681818  0.749976   0.765907   \n",
       "\n",
       "     NDWI_veg  NDVI_veg2  EVI_veg2  ...  MSAVI_rip  NDWI_rip  NDVI_rip2  \\\n",
       "0    0.530326   0.291337  0.044007  ...   0.530326  0.530326   0.185848   \n",
       "1    0.527759   0.225286  0.065821  ...   0.527759  0.527759   0.250669   \n",
       "2    0.545868   0.105576  0.018313  ...   0.545868  0.545868   0.250456   \n",
       "3    0.500000        NaN  0.000000  ...   0.500000  0.500000        NaN   \n",
       "4    0.607003   0.571986  0.109466  ...   0.607003  0.607003   0.149280   \n",
       "..        ...        ...       ...  ...        ...       ...        ...   \n",
       "245  0.500000        NaN  0.000000  ...   0.500000  0.500000        NaN   \n",
       "246  0.500000        NaN  0.000000  ...   0.500000  0.500000        NaN   \n",
       "247  0.500000        NaN  0.000000  ...   0.500000  0.500000        NaN   \n",
       "248  0.529882   0.119527  0.025695  ...   0.529882  0.529882   0.220698   \n",
       "249  0.765907   0.151396  0.064194  ...   0.765907  0.765907   0.366708   \n",
       "\n",
       "     EVI_rip2  RGVI_rip2  NDBI_rip2     DVI_rip2  IPVI_rip2  MSAVI_rip2  \\\n",
       "0    0.034425   1.020751  -0.184923   420.787879   0.659136    0.623904   \n",
       "1    0.055137   1.041171  -0.088731   873.727273   0.648329    0.677760   \n",
       "2    0.031972   1.044441  -0.067913   232.257576   0.556857    0.569698   \n",
       "3    0.000000        NaN        NaN     0.000000        NaN    0.500000   \n",
       "4    0.041596   1.004861  -0.275062  1017.959596   0.793616    0.708345   \n",
       "..        ...        ...        ...          ...        ...         ...   \n",
       "245  0.000000        NaN        NaN     0.000000        NaN    0.500000   \n",
       "246  0.000000        NaN        NaN     0.000000        NaN    0.500000   \n",
       "247  0.000000        NaN        NaN     0.000000        NaN    0.500000   \n",
       "248  0.013349   1.053999  -0.091557   331.989899   0.566904    0.566036   \n",
       "249  0.071624   1.015164  -0.071624   545.871212   0.572992    0.730944   \n",
       "\n",
       "     NDWI_rip2  \n",
       "0     0.626067  \n",
       "1     0.671227  \n",
       "2     0.595081  \n",
       "3     0.500000  \n",
       "4     0.631151  \n",
       "..         ...  \n",
       "245   0.500000  \n",
       "246   0.500000  \n",
       "247   0.500000  \n",
       "248   0.537574  \n",
       "249   0.686559  \n",
       "\n",
       "[250 rows x 48 columns]"
      ]
     },
     "execution_count": 49,
     "metadata": {},
     "output_type": "execute_result"
    }
   ],
   "source": [
    "crop_data"
   ]
  },
  {
   "cell_type": "code",
   "execution_count": 50,
   "id": "aa614957-427f-4354-a557-864b0e265141",
   "metadata": {},
   "outputs": [],
   "source": [
    "crop_data.to_csv(\"test_indices.csv\")"
   ]
  },
  {
   "cell_type": "code",
   "execution_count": 51,
   "id": "4e981d99-74fc-48fa-81d7-c6e080efef2c",
   "metadata": {
    "tags": []
   },
   "outputs": [],
   "source": [
    "#nvdi null values\n",
    "crop_data[['NDVI_veg','NDVI_veg2','NDVI_rep','NDVI_rep2','NDVI_rip','NDVI_rip2']]=crop_data[['NDVI_veg','NDVI_veg2','NDVI_rep','NDVI_rep2','NDVI_rip','NDVI_rip2']].fillna(-1)"
   ]
  },
  {
   "cell_type": "code",
   "execution_count": 52,
   "id": "ff388b30-4c15-45f5-8ba9-a119952bcae9",
   "metadata": {
    "tags": []
   },
   "outputs": [],
   "source": [
    "#rgvi null values\n",
    "crop_data[['RGVI_veg','RGVI_veg2','RGVI_rep','RGVI_rep2','RGVI_rip','RGVI_rip2']]=crop_data[['RGVI_veg','RGVI_veg2','RGVI_rep','RGVI_rep2','RGVI_rip','RGVI_rip2']].fillna(0)"
   ]
  },
  {
   "cell_type": "code",
   "execution_count": 53,
   "id": "c2df3444-4377-42fd-80c5-07d0143ac612",
   "metadata": {
    "tags": []
   },
   "outputs": [],
   "source": [
    "#ipvi null values\n",
    "crop_data[['IPVI_veg', 'IPVI_veg2', 'IPVI_rep', 'IPVI_rep2', 'IPVI_rip', 'IPVI_rip2']]=crop_data[['IPVI_veg', 'IPVI_veg2', 'IPVI_rep', 'IPVI_rep2', 'IPVI_rip', 'IPVI_rip2']] = crop_data[['RGVI_veg', 'RGVI_veg2', 'RGVI_rep', 'RGVI_rep2', 'RGVI_rip', 'RGVI_rip2']].fillna(0)\n"
   ]
  },
  {
   "cell_type": "code",
   "execution_count": 54,
   "id": "10a08595-e37b-410c-822f-4ddcdb1599e6",
   "metadata": {
    "tags": []
   },
   "outputs": [],
   "source": [
    "#NDBI null values\n",
    "crop_data[['NDBI_veg', 'NDBI_veg2', 'NDBI_rep', 'NDBI_rep2', 'NDBI_rip', 'NDBI_rip2']]=crop_data[['NDBI_veg', 'NDBI_veg2', 'NDBI_rep', 'NDBI_rep2', 'NDBI_rip', 'NDBI_rip2']].fillna(-0.5)"
   ]
  },
  {
   "cell_type": "code",
   "execution_count": 55,
   "id": "f94f9fde-b3ce-432f-965c-355664132f32",
   "metadata": {
    "tags": []
   },
   "outputs": [],
   "source": [
    "X_submission=crop_data"
   ]
  },
  {
   "cell_type": "code",
   "execution_count": 56,
   "id": "4ccbba42-e8e6-4544-b096-36e7831038a8",
   "metadata": {},
   "outputs": [],
   "source": [
    "X_submission = sc.fit_transform(X_submission)\n"
   ]
  },
  {
   "cell_type": "code",
   "execution_count": 57,
   "id": "6973372e-e736-431f-9182-3787c1d8d3d8",
   "metadata": {
    "tags": []
   },
   "outputs": [],
   "source": [
    "y_submission=best_model.predict(X_submission)"
   ]
  },
  {
   "cell_type": "code",
   "execution_count": 58,
   "id": "4940bf93-8151-48d5-8dbf-f011b1be53fa",
   "metadata": {
    "tags": []
   },
   "outputs": [
    {
     "data": {
      "text/plain": [
       "array([1, 1, 1, 0, 1, 0, 1, 1, 0, 0, 1, 1, 1, 0, 0, 0, 1, 0, 0, 1, 1, 1,\n",
       "       1, 0, 1, 1, 1, 1, 0, 1, 1, 0, 1, 1, 1, 1, 1, 0, 0, 1, 1, 0, 0, 1,\n",
       "       1, 0, 0, 0, 1, 1, 1, 0, 0, 0, 0, 0, 1, 1, 1, 0, 1, 1, 1, 0, 0, 0,\n",
       "       0, 1, 0, 1, 1, 0, 0, 1, 0, 0, 1, 1, 0, 0, 0, 0, 1, 0, 1, 0, 0, 0,\n",
       "       1, 1, 1, 0, 0, 0, 0, 0, 1, 1, 1, 1, 1, 0, 0, 0, 1, 1, 0, 1, 0, 1,\n",
       "       0, 0, 0, 1, 1, 0, 1, 1, 0, 0, 1, 1, 1, 1, 1, 0, 1, 1, 0, 1, 1, 0,\n",
       "       1, 1, 0, 1, 1, 1, 0, 0, 0, 1, 0, 0, 1, 0, 0, 1, 1, 0, 0, 1, 1, 1,\n",
       "       0, 1, 0, 1, 0, 0, 1, 1, 1, 0, 1, 0, 0, 0, 1, 0, 0, 0, 1, 0, 0, 1,\n",
       "       1, 1, 0, 1, 0, 0, 1, 1, 1, 0, 1, 0, 0, 0, 1, 1, 1, 0, 1, 0, 1, 1,\n",
       "       1, 0, 0, 0, 0, 1, 1, 1, 0, 0, 0, 0, 0, 1, 1, 1, 1, 0, 1, 1, 0, 1,\n",
       "       1, 0, 0, 1, 0, 1, 1, 1, 0, 0, 0, 0, 0, 1, 0, 1, 1, 1, 0, 1, 0, 1,\n",
       "       1, 0, 0, 0, 0, 0, 1, 1])"
      ]
     },
     "execution_count": 58,
     "metadata": {},
     "output_type": "execute_result"
    }
   ],
   "source": [
    "y_submission"
   ]
  },
  {
   "cell_type": "code",
   "execution_count": 59,
   "id": "1037271c-38a1-4736-960d-457fb5e4c425",
   "metadata": {
    "tags": []
   },
   "outputs": [],
   "source": [
    "y_submission= np.where(y_submission == 1,'Rice','Non Rice')"
   ]
  },
  {
   "cell_type": "code",
   "execution_count": 60,
   "id": "587228be-bef8-452b-b724-e9ba8901ced7",
   "metadata": {
    "tags": []
   },
   "outputs": [],
   "source": [
    "y_submission=pd.DataFrame(y_submission)\n",
    "y_submission.columns=[\"Prediction\"]\n",
    "y_submission=pd.concat([submission_data,y_submission], axis=1)"
   ]
  },
  {
   "cell_type": "markdown",
   "id": "de650f6d-b45e-477e-825c-2c5a0cce1244",
   "metadata": {
    "tags": []
   },
   "source": [
    "# Final predictions\n"
   ]
  },
  {
   "cell_type": "code",
   "execution_count": 61,
   "id": "a725961a-8bf4-4d2f-80cf-75316a315366",
   "metadata": {
    "tags": []
   },
   "outputs": [
    {
     "data": {
      "text/html": [
       "<div>\n",
       "<style scoped>\n",
       "    .dataframe tbody tr th:only-of-type {\n",
       "        vertical-align: middle;\n",
       "    }\n",
       "\n",
       "    .dataframe tbody tr th {\n",
       "        vertical-align: top;\n",
       "    }\n",
       "\n",
       "    .dataframe thead th {\n",
       "        text-align: right;\n",
       "    }\n",
       "</style>\n",
       "<table border=\"1\" class=\"dataframe\">\n",
       "  <thead>\n",
       "    <tr style=\"text-align: right;\">\n",
       "      <th></th>\n",
       "      <th>Latitude and Longitude</th>\n",
       "      <th>Prediction</th>\n",
       "    </tr>\n",
       "  </thead>\n",
       "  <tbody>\n",
       "    <tr>\n",
       "      <th>0</th>\n",
       "      <td>(10.18019073690894, 105.32022315786804)</td>\n",
       "      <td>Rice</td>\n",
       "    </tr>\n",
       "    <tr>\n",
       "      <th>1</th>\n",
       "      <td>(10.561107033461816, 105.12772097986661)</td>\n",
       "      <td>Rice</td>\n",
       "    </tr>\n",
       "    <tr>\n",
       "      <th>2</th>\n",
       "      <td>(10.623790611954897, 105.13771401411867)</td>\n",
       "      <td>Rice</td>\n",
       "    </tr>\n",
       "    <tr>\n",
       "      <th>3</th>\n",
       "      <td>(10.583364246115156, 105.23946127195805)</td>\n",
       "      <td>Non Rice</td>\n",
       "    </tr>\n",
       "    <tr>\n",
       "      <th>4</th>\n",
       "      <td>(10.20744446668854, 105.26844107128906)</td>\n",
       "      <td>Rice</td>\n",
       "    </tr>\n",
       "    <tr>\n",
       "      <th>...</th>\n",
       "      <td>...</td>\n",
       "      <td>...</td>\n",
       "    </tr>\n",
       "    <tr>\n",
       "      <th>245</th>\n",
       "      <td>(10.308283266873062, 105.50872812216863)</td>\n",
       "      <td>Non Rice</td>\n",
       "    </tr>\n",
       "    <tr>\n",
       "      <th>246</th>\n",
       "      <td>(10.582910017285496, 105.23991550078767)</td>\n",
       "      <td>Non Rice</td>\n",
       "    </tr>\n",
       "    <tr>\n",
       "      <th>247</th>\n",
       "      <td>(10.581547330796518, 105.23991550078767)</td>\n",
       "      <td>Non Rice</td>\n",
       "    </tr>\n",
       "    <tr>\n",
       "      <th>248</th>\n",
       "      <td>(10.629241357910818, 105.15315779432643)</td>\n",
       "      <td>Rice</td>\n",
       "    </tr>\n",
       "    <tr>\n",
       "      <th>249</th>\n",
       "      <td>(10.574733898351617, 105.10410108072531)</td>\n",
       "      <td>Rice</td>\n",
       "    </tr>\n",
       "  </tbody>\n",
       "</table>\n",
       "<p>250 rows × 2 columns</p>\n",
       "</div>"
      ],
      "text/plain": [
       "                       Latitude and Longitude Prediction\n",
       "0     (10.18019073690894, 105.32022315786804)       Rice\n",
       "1    (10.561107033461816, 105.12772097986661)       Rice\n",
       "2    (10.623790611954897, 105.13771401411867)       Rice\n",
       "3    (10.583364246115156, 105.23946127195805)   Non Rice\n",
       "4     (10.20744446668854, 105.26844107128906)       Rice\n",
       "..                                        ...        ...\n",
       "245  (10.308283266873062, 105.50872812216863)   Non Rice\n",
       "246  (10.582910017285496, 105.23991550078767)   Non Rice\n",
       "247  (10.581547330796518, 105.23991550078767)   Non Rice\n",
       "248  (10.629241357910818, 105.15315779432643)       Rice\n",
       "249  (10.574733898351617, 105.10410108072531)       Rice\n",
       "\n",
       "[250 rows x 2 columns]"
      ]
     },
     "execution_count": 61,
     "metadata": {},
     "output_type": "execute_result"
    }
   ],
   "source": [
    "y_submission"
   ]
  },
  {
   "cell_type": "code",
   "execution_count": 62,
   "id": "45801d21-2942-4bb0-b0d1-3653eefad498",
   "metadata": {
    "tags": []
   },
   "outputs": [],
   "source": [
    "y_submission.to_csv(\"Our prediction with indices.csv\")"
   ]
  },
  {
   "cell_type": "code",
   "execution_count": 63,
   "id": "3ce34a1b-3047-44ed-a20e-ae45bf13e491",
   "metadata": {
    "tags": []
   },
   "outputs": [],
   "source": [
    "ref=pd.read_csv(\"reference prediction.csv\")"
   ]
  },
  {
   "cell_type": "code",
   "execution_count": 64,
   "id": "5ecc33df-bc44-4b12-af9c-8242e5bd90c8",
   "metadata": {
    "tags": []
   },
   "outputs": [],
   "source": [
    "#compares values row by row\n",
    "#True if values are same\n",
    "#False if not\n",
    "compare=y_submission.Prediction==ref.target"
   ]
  },
  {
   "cell_type": "code",
   "execution_count": 65,
   "id": "5a322d71-57f9-4c53-9f09-7666070c36c5",
   "metadata": {
    "tags": []
   },
   "outputs": [
    {
     "data": {
      "text/plain": [
       "207"
      ]
     },
     "execution_count": 65,
     "metadata": {},
     "output_type": "execute_result"
    }
   ],
   "source": [
    "#returns total true values\n",
    "compare.sum()"
   ]
  },
  {
   "cell_type": "code",
   "execution_count": null,
   "id": "ae90b5cb-d0b8-4671-bd13-1421ecfebda8",
   "metadata": {},
   "outputs": [],
   "source": []
  }
 ],
 "metadata": {
  "kernelspec": {
   "display_name": "Python 3 (ipykernel)",
   "language": "python",
   "name": "python3"
  },
  "language_info": {
   "codemirror_mode": {
    "name": "ipython",
    "version": 3
   },
   "file_extension": ".py",
   "mimetype": "text/x-python",
   "name": "python",
   "nbconvert_exporter": "python",
   "pygments_lexer": "ipython3",
   "version": "3.11.4"
  }
 },
 "nbformat": 4,
 "nbformat_minor": 5
}
