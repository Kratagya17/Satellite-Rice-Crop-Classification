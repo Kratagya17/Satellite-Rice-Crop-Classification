{
 "cells": [
  {
   "cell_type": "markdown",
   "id": "2b8e285b-b040-4443-8f6e-27f625eda73c",
   "metadata": {},
   "source": [
    "# Displaying prediction with real optical images"
   ]
  },
  {
   "cell_type": "code",
   "execution_count": 4,
   "id": "569b3037-81a0-4e75-9b49-675b2382efa4",
   "metadata": {
    "tags": []
   },
   "outputs": [],
   "source": [
    "# Supress Warnings \n",
    "import warnings\n",
    "warnings.filterwarnings('ignore')\n",
    "\n",
    "import pandas as pd\n",
    "# Import common GIS tools\n",
    "import numpy as np\n",
    "import xarray as xr\n",
    "import matplotlib.pyplot as plt\n",
    "import rasterio.features\n",
    "import rioxarray as rio\n",
    "import xrspatial.multispectral as ms\n",
    "\n",
    "# Import Planetary Computer tools\n",
    "import pystac_client\n",
    "import planetary_computer as pc\n",
    "import odc\n",
    "from odc.stac import stac_load\n",
    "from odc.algo import to_rgba"
   ]
  },
  {
   "cell_type": "markdown",
   "id": "5d0bbd6d-9f1c-4fc9-b9fd-1d40f78843f2",
   "metadata": {},
   "source": [
    "Storing the required variables(R,G,B) related to each latitude and longitude in a single list "
   ]
  },
  {
   "cell_type": "code",
   "execution_count": 2,
   "id": "63e310d9-220e-4193-9ff1-566be23b21bc",
   "metadata": {
    "tags": []
   },
   "outputs": [],
   "source": [
    "import pandas as pd\n",
    "import pystac_client\n",
    "\n",
    "# Load the CSV file containing combined latitude and longitude values\n",
    "df = pd.read_csv(\"Our prediction.csv\")\n",
    "\n",
    "# Define the time window\n",
    "time_window = \"2022-12-31\"\n",
    "\n",
    "# Initialize an empty list to store the results for each lat-long pair\n",
    "result_list = []\n",
    " # Define the pixel resolution for the final product\n",
    "# Define the scale according to our selected crs, so we will use degrees\n",
    "resolution = 20  # meters per pixel \n",
    "scale = resolution / 111320.0 # degrees per pixel for CRS:4326 \n",
    "\n",
    "# Iterate through each row in the DataFrame\n",
    "for index, row in df.iterrows():\n",
    "    # Extract latitude and longitude values from the 'Lat_Long' column\n",
    "    lat_long_str = row['Latitude and Longitude']\n",
    "    lat_long_str = lat_long_str.strip('()')  # Remove parentheses\n",
    "    lat_str, lon_str = lat_long_str.split(', ')  # Split into latitude and longitude strings\n",
    "    lat = float(lat_str)\n",
    "    lon = float(lon_str)\n",
    "\n",
    "    # Calculate the Lat-Lon bounding box region\n",
    "    box_size_deg = 0.04  # Surrounding box in degrees\n",
    "    min_lon = lon - box_size_deg / 2\n",
    "    min_lat = lat - box_size_deg / 2\n",
    "    max_lon = lon + box_size_deg / 2\n",
    "    max_lat = lat + box_size_deg / 2\n",
    "    bounds = (min_lon, min_lat, max_lon, max_lat)\n",
    "\n",
    "    # Open the STAC client and search for items\n",
    "    stac = pystac_client.Client.open(\"https://planetarycomputer.microsoft.com/api/stac/v1\")\n",
    "    search = stac.search(collections=[\"sentinel-2-l2a\"], bbox=bounds, datetime=time_window)\n",
    "    items = list(search.get_all_items())\n",
    "    #print('This is the number of scenes that touch our region:',len(items))\n",
    "   \n",
    "    if items:\n",
    "        # Load data for the current lat-long pair\n",
    "        xx = stac_load(\n",
    "            items,\n",
    "            bands=[\"red\", \"green\", \"blue\"],\n",
    "            crs=\"EPSG:4326\",  # Latitude-Longitude\n",
    "            resolution=scale,  # Degrees\n",
    "            chunks={\"x\": 2048, \"y\": 2048},\n",
    "            dtype=\"uint16\",\n",
    "            patch_url=pc.sign,\n",
    "            bbox=bounds\n",
    "        )\n",
    "\n",
    "        # Append the result to the list\n",
    "        result_list.append(xx)\n",
    "    else:\n",
    "        print(f\"No items found for Lat: {lat}, Lon: {lon}\")\n",
    "\n",
    "# Now, result_list contains the data for each lat-long pair\n",
    "# You can process this list further as needed\n"
   ]
  },
  {
   "cell_type": "code",
   "execution_count": 3,
   "id": "bb872fd8-e52b-4143-8b31-b0312fd2abed",
   "metadata": {
    "tags": []
   },
   "outputs": [
    {
     "ename": "SyntaxError",
     "evalue": "invalid syntax (1134067396.py, line 1)",
     "output_type": "error",
     "traceback": [
      "\u001b[0;36m  Cell \u001b[0;32mIn[3], line 1\u001b[0;36m\u001b[0m\n\u001b[0;31m    Plotting the rgb of each Latitude and longitude\u001b[0m\n\u001b[0m             ^\u001b[0m\n\u001b[0;31mSyntaxError\u001b[0m\u001b[0;31m:\u001b[0m invalid syntax\n"
     ]
    }
   ],
   "source": [
    "Plotting the rgb of each Latitude and longitude"
   ]
  },
  {
   "cell_type": "code",
   "execution_count": null,
   "id": "268c4c77-207e-4a45-b53f-3ec970430876",
   "metadata": {
    "tags": []
   },
   "outputs": [],
   "source": [
    "import matplotlib.pyplot as plt\n",
    "\n",
    "# Assuming you have another DataFrame 'other_df' with a column 'Title_Column'\n",
    "# Iterate through each data array in result_list (assuming result_list contains all xx arrays)\n",
    "for index, data_array in enumerate(result_list):\n",
    "    # Extract latitude and longitude values from the data_array\n",
    "    lat = data_array.coords['latitude'].values[0]\n",
    "    lon = data_array.coords['longitude'].values[0]\n",
    "\n",
    "    # Create a plot for the red, green, and blue bands\n",
    "    plot_data = data_array[[\"red\", \"green\", \"blue\"]].to_array()\n",
    "\n",
    "    # Get the title from 'other_df' based on the index\n",
    "    if index < len(df):\n",
    "        existing_title = df.loc[index, 'Prediction']\n",
    "    else:\n",
    "        existing_title = f\"Title not available for index {index}\"\n",
    "\n",
    "    # Modify the title to include index and \"Predicted\"\n",
    "    title = f\" {index}.Predicted: {existing_title}\"\n",
    "\n",
    "    # Plot the data\n",
    "    plot_data.plot.imshow(col='time', col_wrap=1, robust=True, vmin=0, vmax=3000)\n",
    "\n",
    "    # Set the title for the plot\n",
    "    plt.title(title)\n",
    "\n",
    "    # Add text annotations for latitude and longitude on the plot\n",
    "    plt.text(0.02, 0.90, f\"Lat: {lat:.2f}\", transform=plt.gca().transAxes, fontsize=10, color='white')\n",
    "    plt.text(0.02, 0.80, f\"Long: {lon:.2f}\", transform=plt.gca().transAxes, fontsize=10, color='white')\n",
    "\n",
    "    # Remove latitude and longitude ticks on both the x and y axes\n",
    "    plt.gca().set_xticks([])\n",
    "    plt.gca().set_yticks([])\n",
    "    \n",
    "    # Remove x and y axis labels (titles)\n",
    "    plt.gca().set_xlabel('')\n",
    "    plt.gca().set_ylabel('')\n",
    "    \n",
    "    # Show the plot\n",
    "    plt.show()\n"
   ]
  },
  {
   "cell_type": "code",
   "execution_count": null,
   "id": "c6445f8c-9ef9-4ba4-ad49-08780a480a82",
   "metadata": {},
   "outputs": [],
   "source": []
  }
 ],
 "metadata": {
  "kernelspec": {
   "display_name": "Python 3 (ipykernel)",
   "language": "python",
   "name": "python3"
  },
  "language_info": {
   "codemirror_mode": {
    "name": "ipython",
    "version": 3
   },
   "file_extension": ".py",
   "mimetype": "text/x-python",
   "name": "python",
   "nbconvert_exporter": "python",
   "pygments_lexer": "ipython3",
   "version": "3.11.4"
  }
 },
 "nbformat": 4,
 "nbformat_minor": 5
}
